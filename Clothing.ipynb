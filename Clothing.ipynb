{
 "cells": [
  {
   "cell_type": "code",
   "execution_count": 1,
   "metadata": {},
   "outputs": [],
   "source": [
    "import pandas as pd\n",
    "import numpy as np\n",
    "import matplotlib.pyplot as plt\n",
    "import seaborn as sns"
   ]
  },
  {
   "cell_type": "code",
   "execution_count": 2,
   "metadata": {},
   "outputs": [],
   "source": [
    "clothes = pd.read_csv(\"Dresses.csv\", na_values='null')"
   ]
  },
  {
   "cell_type": "code",
   "execution_count": 3,
   "metadata": {},
   "outputs": [
    {
     "data": {
      "text/html": [
       "<div>\n",
       "<style scoped>\n",
       "    .dataframe tbody tr th:only-of-type {\n",
       "        vertical-align: middle;\n",
       "    }\n",
       "\n",
       "    .dataframe tbody tr th {\n",
       "        vertical-align: top;\n",
       "    }\n",
       "\n",
       "    .dataframe thead th {\n",
       "        text-align: right;\n",
       "    }\n",
       "</style>\n",
       "<table border=\"1\" class=\"dataframe\">\n",
       "  <thead>\n",
       "    <tr style=\"text-align: right;\">\n",
       "      <th></th>\n",
       "      <th>Dress_ID</th>\n",
       "      <th>Style</th>\n",
       "      <th>Price</th>\n",
       "      <th>Rating</th>\n",
       "      <th>Size</th>\n",
       "      <th>Season</th>\n",
       "      <th>NeckLine</th>\n",
       "      <th>SleeveLength</th>\n",
       "      <th>waiseline</th>\n",
       "      <th>Material</th>\n",
       "      <th>FabricType</th>\n",
       "      <th>Decoration</th>\n",
       "      <th>Pattern Type</th>\n",
       "      <th>Recommendation</th>\n",
       "    </tr>\n",
       "  </thead>\n",
       "  <tbody>\n",
       "    <tr>\n",
       "      <th>0</th>\n",
       "      <td>1006032852</td>\n",
       "      <td>Sexy</td>\n",
       "      <td>Low</td>\n",
       "      <td>4.6</td>\n",
       "      <td>M</td>\n",
       "      <td>Summer</td>\n",
       "      <td>o-neck</td>\n",
       "      <td>sleevless</td>\n",
       "      <td>empire</td>\n",
       "      <td>NaN</td>\n",
       "      <td>chiffon</td>\n",
       "      <td>ruffles</td>\n",
       "      <td>animal</td>\n",
       "      <td>1</td>\n",
       "    </tr>\n",
       "    <tr>\n",
       "      <th>1</th>\n",
       "      <td>1212192089</td>\n",
       "      <td>Casual</td>\n",
       "      <td>Low</td>\n",
       "      <td>0.0</td>\n",
       "      <td>L</td>\n",
       "      <td>Summer</td>\n",
       "      <td>o-neck</td>\n",
       "      <td>Petal</td>\n",
       "      <td>natural</td>\n",
       "      <td>microfiber</td>\n",
       "      <td>NaN</td>\n",
       "      <td>ruffles</td>\n",
       "      <td>animal</td>\n",
       "      <td>0</td>\n",
       "    </tr>\n",
       "    <tr>\n",
       "      <th>2</th>\n",
       "      <td>1190380701</td>\n",
       "      <td>vintage</td>\n",
       "      <td>High</td>\n",
       "      <td>0.0</td>\n",
       "      <td>L</td>\n",
       "      <td>Automn</td>\n",
       "      <td>o-neck</td>\n",
       "      <td>full</td>\n",
       "      <td>natural</td>\n",
       "      <td>polyster</td>\n",
       "      <td>NaN</td>\n",
       "      <td>NaN</td>\n",
       "      <td>print</td>\n",
       "      <td>0</td>\n",
       "    </tr>\n",
       "    <tr>\n",
       "      <th>3</th>\n",
       "      <td>966005983</td>\n",
       "      <td>Brief</td>\n",
       "      <td>Average</td>\n",
       "      <td>4.6</td>\n",
       "      <td>L</td>\n",
       "      <td>Spring</td>\n",
       "      <td>o-neck</td>\n",
       "      <td>full</td>\n",
       "      <td>natural</td>\n",
       "      <td>silk</td>\n",
       "      <td>chiffon</td>\n",
       "      <td>embroidary</td>\n",
       "      <td>print</td>\n",
       "      <td>1</td>\n",
       "    </tr>\n",
       "    <tr>\n",
       "      <th>4</th>\n",
       "      <td>876339541</td>\n",
       "      <td>cute</td>\n",
       "      <td>Low</td>\n",
       "      <td>4.5</td>\n",
       "      <td>M</td>\n",
       "      <td>Summer</td>\n",
       "      <td>o-neck</td>\n",
       "      <td>butterfly</td>\n",
       "      <td>natural</td>\n",
       "      <td>chiffonfabric</td>\n",
       "      <td>chiffon</td>\n",
       "      <td>bow</td>\n",
       "      <td>dot</td>\n",
       "      <td>0</td>\n",
       "    </tr>\n",
       "  </tbody>\n",
       "</table>\n",
       "</div>"
      ],
      "text/plain": [
       "     Dress_ID    Style    Price  Rating Size  Season NeckLine SleeveLength  \\\n",
       "0  1006032852     Sexy      Low     4.6    M  Summer   o-neck    sleevless   \n",
       "1  1212192089   Casual      Low     0.0    L  Summer   o-neck        Petal   \n",
       "2  1190380701  vintage     High     0.0    L  Automn   o-neck         full   \n",
       "3   966005983    Brief  Average     4.6    L  Spring   o-neck         full   \n",
       "4   876339541     cute      Low     4.5    M  Summer   o-neck    butterfly   \n",
       "\n",
       "  waiseline       Material FabricType  Decoration Pattern Type  Recommendation  \n",
       "0    empire            NaN    chiffon     ruffles       animal               1  \n",
       "1   natural     microfiber        NaN     ruffles       animal               0  \n",
       "2   natural       polyster        NaN         NaN        print               0  \n",
       "3   natural           silk    chiffon  embroidary        print               1  \n",
       "4   natural  chiffonfabric    chiffon         bow          dot               0  "
      ]
     },
     "execution_count": 3,
     "metadata": {},
     "output_type": "execute_result"
    }
   ],
   "source": [
    "clothes.head()"
   ]
  },
  {
   "cell_type": "code",
   "execution_count": 4,
   "metadata": {},
   "outputs": [
    {
     "name": "stdout",
     "output_type": "stream",
     "text": [
      "500\n"
     ]
    }
   ],
   "source": [
    "print(len(clothes))"
   ]
  },
  {
   "cell_type": "code",
   "execution_count": 5,
   "metadata": {},
   "outputs": [
    {
     "data": {
      "text/plain": [
       "Dress_ID            int64\n",
       "Style              object\n",
       "Price              object\n",
       "Rating            float64\n",
       "Size               object\n",
       "Season             object\n",
       "NeckLine           object\n",
       "SleeveLength       object\n",
       "waiseline          object\n",
       "Material           object\n",
       "FabricType         object\n",
       "Decoration         object\n",
       "Pattern Type       object\n",
       "Recommendation      int64\n",
       "dtype: object"
      ]
     },
     "execution_count": 5,
     "metadata": {},
     "output_type": "execute_result"
    }
   ],
   "source": [
    "clothes.dtypes"
   ]
  },
  {
   "cell_type": "code",
   "execution_count": 6,
   "metadata": {},
   "outputs": [
    {
     "name": "stdout",
     "output_type": "stream",
     "text": [
      "Index(['Dress_ID', 'Style', 'Price', 'Rating', 'Size', 'Season', 'NeckLine',\n",
      "       'SleeveLength', 'waiseline', 'Material', 'FabricType', 'Decoration',\n",
      "       'Pattern Type', 'Recommendation'],\n",
      "      dtype='object')\n",
      "1212192089\n",
      "<class 'numpy.int64'>\n",
      "Casual\n",
      "<class 'str'>\n",
      "Low\n",
      "<class 'str'>\n",
      "0.0\n",
      "<class 'numpy.float64'>\n",
      "L\n",
      "<class 'str'>\n",
      "Summer\n",
      "<class 'str'>\n",
      "o-neck\n",
      "<class 'str'>\n",
      "Petal\n",
      "<class 'str'>\n",
      "natural\n",
      "<class 'str'>\n",
      "microfiber\n",
      "<class 'str'>\n",
      "nan\n",
      "<class 'float'>\n",
      "ruffles\n",
      "<class 'str'>\n",
      "animal\n",
      "<class 'str'>\n",
      "0\n",
      "<class 'numpy.int64'>\n"
     ]
    }
   ],
   "source": [
    "print(clothes.columns)\n",
    "\n",
    "for entry in clothes.iloc[1,:]:\n",
    "    print(entry)\n",
    "    print(type(entry))"
   ]
  },
  {
   "cell_type": "code",
   "execution_count": 7,
   "metadata": {},
   "outputs": [],
   "source": [
    "# recommendation is based on sales"
   ]
  },
  {
   "cell_type": "code",
   "execution_count": 8,
   "metadata": {},
   "outputs": [],
   "source": [
    "clothes = clothes.rename(columns={'waiseline': 'Waistline', 'Pattern Type': 'PatternType'})\n"
   ]
  },
  {
   "cell_type": "code",
   "execution_count": 9,
   "metadata": {},
   "outputs": [
    {
     "name": "stdout",
     "output_type": "stream",
     "text": [
      "\n",
      "col Style, has 0 nulls\n",
      "unique values:  ['Sexy' 'Casual' 'vintage' 'Brief' 'cute' 'bohemian' 'Novelty' 'Flare'\n",
      " 'party' 'sexy' 'work' 'OL' 'fashion']\n",
      "\n",
      "col Price, has 2 nulls\n",
      "unique values:  ['Low' 'High' 'Average' 'Medium' 'very-high' 'low' 'high' nan]\n",
      "\n",
      "col Rating, has 0 nulls\n",
      "unique values:  [4.6 0.  4.5 5.  4.7 4.8 4.3 4.  4.4 4.9 4.2 3.6 3.7 4.1 3.5 1.  3. ]\n",
      "\n",
      "col Size, has 0 nulls\n",
      "unique values:  ['M' 'L' 'XL' 'free' 'S' 'small' 's']\n",
      "\n",
      "col Season, has 2 nulls\n",
      "unique values:  ['Summer' 'Automn' 'Spring' 'Winter' 'spring' 'winter' nan 'summer'\n",
      " 'Autumn']\n",
      "\n",
      "col NeckLine, has 3 nulls\n",
      "unique values:  ['o-neck' 'v-neck' 'boat-neck' 'peterpan-collor' 'ruffled'\n",
      " 'turndowncollor' 'slash-neck' 'mandarin-collor' 'open' 'sqare-collor'\n",
      " 'Sweetheart' 'sweetheart' nan 'Scoop' 'halter' 'backless' 'bowneck']\n",
      "\n",
      "col SleeveLength, has 2 nulls\n",
      "unique values:  ['sleevless' 'Petal' 'full' 'butterfly' 'short' 'threequarter'\n",
      " 'halfsleeve' 'cap-sleeves' 'turndowncollor' 'threequater' 'capsleeves'\n",
      " 'sleeveless' 'sleeevless' 'half' 'urndowncollor' 'thressqatar' nan\n",
      " 'sleveless']\n",
      "\n",
      "col Waistline, has 87 nulls\n",
      "unique values:  ['empire' 'natural' nan 'princess' 'dropped']\n",
      "\n",
      "col Material, has 128 nulls\n",
      "unique values:  [nan 'microfiber' 'polyster' 'silk' 'chiffonfabric' 'cotton' 'nylon'\n",
      " 'other' 'milksilk' 'linen' 'rayon' 'lycra' 'mix' 'acrylic' 'spandex'\n",
      " 'lace' 'modal' 'cashmere' 'viscos' 'knitting' 'sill' 'wool' 'model'\n",
      " 'shiffon']\n",
      "\n",
      "col FabricType, has 266 nulls\n",
      "unique values:  ['chiffon' nan 'broadcloth' 'jersey' 'other' 'batik' 'satin' 'flannael'\n",
      " 'worsted' 'woolen' 'poplin' 'dobby' 'knitting' 'flannel' 'tulle' 'sattin'\n",
      " 'organza' 'lace' 'Corduroy' 'wollen' 'knitted' 'shiffon' 'terry']\n",
      "\n",
      "col Decoration, has 236 nulls\n",
      "unique values:  ['ruffles' nan 'embroidary' 'bow' 'lace' 'beading' 'sashes' 'hollowout'\n",
      " 'pockets' 'sequined' 'applique' 'button' 'Tiered' 'rivet' 'feathers'\n",
      " 'flowers' 'pearls' 'pleat' 'crystal' 'ruched' 'draped' 'tassel' 'plain'\n",
      " 'none' 'cascading']\n",
      "\n",
      "col PatternType, has 109 nulls\n",
      "unique values:  ['animal' 'print' 'dot' 'solid' nan 'patchwork' 'striped' 'geometric'\n",
      " 'plaid' 'leopard' 'floral' 'character' 'splice' 'leapord' 'none']\n",
      "\n",
      "col Recommendation, has 0 nulls\n",
      "unique values:  [1 0]\n"
     ]
    }
   ],
   "source": [
    "for c in clothes.columns[1:]:\n",
    "    print(\"\\ncol {}, has {} nulls\".format(c, sum(clothes[c].isnull())))\n",
    "    print(\"unique values: \", clothes[c].unique())"
   ]
  },
  {
   "cell_type": "code",
   "execution_count": 10,
   "metadata": {},
   "outputs": [],
   "source": [
    "clothes.replace({\"Price\" : {\"low\":\"Low\", \"high\":\"High\", \"Average\":\"Medium\"} }, inplace=True)\n",
    "\n",
    "clothes.replace({\"Size\" : {\"s\":\"S\", \"small\":\"S\"} }, inplace=True)\n",
    "\n",
    "clothes.replace({\"Season\" : {\"spring\":\"Spring\", \"summer\":\"Summer\", \n",
    "                                 \"Automn\":\"Autumn\", \"winter\":\"Winter\"} }, inplace=True)\n",
    "\n",
    "clothes.replace({\"Neckline\" : {\"Sweetheart\":\"sweetheart\"} }, inplace=True)\n",
    "\n",
    "clothes.replace({\"SleeveLength\" : {\"halfsleeve\":\"half\", \"threequater\":\"threequarter\", \n",
    "                                 \"thressqatar\":\"threequarter\", \"sleveless\":\"sleeveless\", \n",
    "                                \"sleeevless\":\"sleeveless\", \"sleevless\":\"sleeveless\"} }, inplace=True)\n",
    "\n",
    "clothes.replace({\"Material\" : {\"shiffon\":\"chiffon\", \"chiffonfabric\":\"chiffon\",\n",
    "                               \"sill\":\"silk\"} }, inplace=True)\n",
    "\n",
    "clothes.replace({\"FabricType\" : {\"shiffon\":\"chiffon\", \"flannael\":\"flannel\",\n",
    "                               \"knitting\":\"knitted\", \"wollen\":\"woolen\",\n",
    "                                \"Corduroy\":\"corduroy\"} }, inplace=True)\n",
    "\n",
    "clothes.replace({\"Decoration\" : {\"none\":\"plain\"} }, inplace=True)\n",
    "\n",
    "clothes.replace({\"PatternType\" : {\"leapord\":\"leopard\"} }, inplace=True)"
   ]
  },
  {
   "cell_type": "markdown",
   "metadata": {},
   "source": [
    "## Nan Values"
   ]
  },
  {
   "cell_type": "code",
   "execution_count": 11,
   "metadata": {},
   "outputs": [
    {
     "data": {
      "text/html": [
       "<div>\n",
       "<style scoped>\n",
       "    .dataframe tbody tr th:only-of-type {\n",
       "        vertical-align: middle;\n",
       "    }\n",
       "\n",
       "    .dataframe tbody tr th {\n",
       "        vertical-align: top;\n",
       "    }\n",
       "\n",
       "    .dataframe thead th {\n",
       "        text-align: right;\n",
       "    }\n",
       "</style>\n",
       "<table border=\"1\" class=\"dataframe\">\n",
       "  <thead>\n",
       "    <tr style=\"text-align: right;\">\n",
       "      <th></th>\n",
       "      <th>Dress_ID</th>\n",
       "      <th>Style</th>\n",
       "      <th>Price</th>\n",
       "      <th>Rating</th>\n",
       "      <th>Size</th>\n",
       "      <th>Season</th>\n",
       "      <th>NeckLine</th>\n",
       "      <th>SleeveLength</th>\n",
       "      <th>Waistline</th>\n",
       "      <th>Material</th>\n",
       "      <th>FabricType</th>\n",
       "      <th>Decoration</th>\n",
       "      <th>PatternType</th>\n",
       "      <th>Recommendation</th>\n",
       "    </tr>\n",
       "  </thead>\n",
       "  <tbody>\n",
       "    <tr>\n",
       "      <th>0</th>\n",
       "      <td>1006032852</td>\n",
       "      <td>Sexy</td>\n",
       "      <td>Low</td>\n",
       "      <td>4.6</td>\n",
       "      <td>M</td>\n",
       "      <td>Summer</td>\n",
       "      <td>o-neck</td>\n",
       "      <td>sleeveless</td>\n",
       "      <td>empire</td>\n",
       "      <td>NaN</td>\n",
       "      <td>chiffon</td>\n",
       "      <td>ruffles</td>\n",
       "      <td>animal</td>\n",
       "      <td>1</td>\n",
       "    </tr>\n",
       "    <tr>\n",
       "      <th>1</th>\n",
       "      <td>1212192089</td>\n",
       "      <td>Casual</td>\n",
       "      <td>Low</td>\n",
       "      <td>0.0</td>\n",
       "      <td>L</td>\n",
       "      <td>Summer</td>\n",
       "      <td>o-neck</td>\n",
       "      <td>Petal</td>\n",
       "      <td>natural</td>\n",
       "      <td>microfiber</td>\n",
       "      <td>NaN</td>\n",
       "      <td>ruffles</td>\n",
       "      <td>animal</td>\n",
       "      <td>0</td>\n",
       "    </tr>\n",
       "    <tr>\n",
       "      <th>2</th>\n",
       "      <td>1190380701</td>\n",
       "      <td>vintage</td>\n",
       "      <td>High</td>\n",
       "      <td>0.0</td>\n",
       "      <td>L</td>\n",
       "      <td>Autumn</td>\n",
       "      <td>o-neck</td>\n",
       "      <td>full</td>\n",
       "      <td>natural</td>\n",
       "      <td>polyster</td>\n",
       "      <td>NaN</td>\n",
       "      <td>NaN</td>\n",
       "      <td>print</td>\n",
       "      <td>0</td>\n",
       "    </tr>\n",
       "    <tr>\n",
       "      <th>5</th>\n",
       "      <td>1068332458</td>\n",
       "      <td>bohemian</td>\n",
       "      <td>Low</td>\n",
       "      <td>0.0</td>\n",
       "      <td>M</td>\n",
       "      <td>Summer</td>\n",
       "      <td>v-neck</td>\n",
       "      <td>sleeveless</td>\n",
       "      <td>empire</td>\n",
       "      <td>NaN</td>\n",
       "      <td>NaN</td>\n",
       "      <td>NaN</td>\n",
       "      <td>print</td>\n",
       "      <td>0</td>\n",
       "    </tr>\n",
       "    <tr>\n",
       "      <th>6</th>\n",
       "      <td>1220707172</td>\n",
       "      <td>Casual</td>\n",
       "      <td>Medium</td>\n",
       "      <td>0.0</td>\n",
       "      <td>XL</td>\n",
       "      <td>Summer</td>\n",
       "      <td>o-neck</td>\n",
       "      <td>full</td>\n",
       "      <td>NaN</td>\n",
       "      <td>cotton</td>\n",
       "      <td>NaN</td>\n",
       "      <td>NaN</td>\n",
       "      <td>solid</td>\n",
       "      <td>0</td>\n",
       "    </tr>\n",
       "    <tr>\n",
       "      <th>...</th>\n",
       "      <td>...</td>\n",
       "      <td>...</td>\n",
       "      <td>...</td>\n",
       "      <td>...</td>\n",
       "      <td>...</td>\n",
       "      <td>...</td>\n",
       "      <td>...</td>\n",
       "      <td>...</td>\n",
       "      <td>...</td>\n",
       "      <td>...</td>\n",
       "      <td>...</td>\n",
       "      <td>...</td>\n",
       "      <td>...</td>\n",
       "      <td>...</td>\n",
       "    </tr>\n",
       "    <tr>\n",
       "      <th>492</th>\n",
       "      <td>859922576</td>\n",
       "      <td>cute</td>\n",
       "      <td>Medium</td>\n",
       "      <td>4.6</td>\n",
       "      <td>M</td>\n",
       "      <td>Spring</td>\n",
       "      <td>o-neck</td>\n",
       "      <td>half</td>\n",
       "      <td>natural</td>\n",
       "      <td>acrylic</td>\n",
       "      <td>chiffon</td>\n",
       "      <td>NaN</td>\n",
       "      <td>NaN</td>\n",
       "      <td>0</td>\n",
       "    </tr>\n",
       "    <tr>\n",
       "      <th>494</th>\n",
       "      <td>990559192</td>\n",
       "      <td>Brief</td>\n",
       "      <td>Medium</td>\n",
       "      <td>4.7</td>\n",
       "      <td>M</td>\n",
       "      <td>Winter</td>\n",
       "      <td>o-neck</td>\n",
       "      <td>half</td>\n",
       "      <td>natural</td>\n",
       "      <td>acrylic</td>\n",
       "      <td>chiffon</td>\n",
       "      <td>NaN</td>\n",
       "      <td>striped</td>\n",
       "      <td>0</td>\n",
       "    </tr>\n",
       "    <tr>\n",
       "      <th>495</th>\n",
       "      <td>713391965</td>\n",
       "      <td>Casual</td>\n",
       "      <td>Low</td>\n",
       "      <td>4.7</td>\n",
       "      <td>M</td>\n",
       "      <td>Spring</td>\n",
       "      <td>o-neck</td>\n",
       "      <td>full</td>\n",
       "      <td>natural</td>\n",
       "      <td>polyster</td>\n",
       "      <td>NaN</td>\n",
       "      <td>NaN</td>\n",
       "      <td>solid</td>\n",
       "      <td>1</td>\n",
       "    </tr>\n",
       "    <tr>\n",
       "      <th>496</th>\n",
       "      <td>722565148</td>\n",
       "      <td>Sexy</td>\n",
       "      <td>Low</td>\n",
       "      <td>4.3</td>\n",
       "      <td>free</td>\n",
       "      <td>Summer</td>\n",
       "      <td>o-neck</td>\n",
       "      <td>full</td>\n",
       "      <td>empire</td>\n",
       "      <td>cotton</td>\n",
       "      <td>NaN</td>\n",
       "      <td>NaN</td>\n",
       "      <td>NaN</td>\n",
       "      <td>0</td>\n",
       "    </tr>\n",
       "    <tr>\n",
       "      <th>497</th>\n",
       "      <td>532874347</td>\n",
       "      <td>Casual</td>\n",
       "      <td>Medium</td>\n",
       "      <td>4.7</td>\n",
       "      <td>M</td>\n",
       "      <td>Summer</td>\n",
       "      <td>v-neck</td>\n",
       "      <td>full</td>\n",
       "      <td>empire</td>\n",
       "      <td>cotton</td>\n",
       "      <td>NaN</td>\n",
       "      <td>lace</td>\n",
       "      <td>solid</td>\n",
       "      <td>1</td>\n",
       "    </tr>\n",
       "  </tbody>\n",
       "</table>\n",
       "<p>401 rows × 14 columns</p>\n",
       "</div>"
      ],
      "text/plain": [
       "       Dress_ID     Style   Price  Rating  Size  Season NeckLine SleeveLength  \\\n",
       "0    1006032852      Sexy     Low     4.6     M  Summer   o-neck   sleeveless   \n",
       "1    1212192089    Casual     Low     0.0     L  Summer   o-neck        Petal   \n",
       "2    1190380701   vintage    High     0.0     L  Autumn   o-neck         full   \n",
       "5    1068332458  bohemian     Low     0.0     M  Summer   v-neck   sleeveless   \n",
       "6    1220707172    Casual  Medium     0.0    XL  Summer   o-neck         full   \n",
       "..          ...       ...     ...     ...   ...     ...      ...          ...   \n",
       "492   859922576      cute  Medium     4.6     M  Spring   o-neck         half   \n",
       "494   990559192     Brief  Medium     4.7     M  Winter   o-neck         half   \n",
       "495   713391965    Casual     Low     4.7     M  Spring   o-neck         full   \n",
       "496   722565148      Sexy     Low     4.3  free  Summer   o-neck         full   \n",
       "497   532874347    Casual  Medium     4.7     M  Summer   v-neck         full   \n",
       "\n",
       "    Waistline    Material FabricType Decoration PatternType  Recommendation  \n",
       "0      empire         NaN    chiffon    ruffles      animal               1  \n",
       "1     natural  microfiber        NaN    ruffles      animal               0  \n",
       "2     natural    polyster        NaN        NaN       print               0  \n",
       "5      empire         NaN        NaN        NaN       print               0  \n",
       "6         NaN      cotton        NaN        NaN       solid               0  \n",
       "..        ...         ...        ...        ...         ...             ...  \n",
       "492   natural     acrylic    chiffon        NaN         NaN               0  \n",
       "494   natural     acrylic    chiffon        NaN     striped               0  \n",
       "495   natural    polyster        NaN        NaN       solid               1  \n",
       "496    empire      cotton        NaN        NaN         NaN               0  \n",
       "497    empire      cotton        NaN       lace       solid               1  \n",
       "\n",
       "[401 rows x 14 columns]"
      ]
     },
     "execution_count": 11,
     "metadata": {},
     "output_type": "execute_result"
    }
   ],
   "source": [
    "clothes[clothes.isna().any(axis=1)] # 401 rows!"
   ]
  },
  {
   "cell_type": "code",
   "execution_count": 12,
   "metadata": {},
   "outputs": [
    {
     "data": {
      "image/png": "[encoded data removed]",
      "text/plain": [
       "<Figure size 432x288 with 1 Axes>"
      ]
     },
     "metadata": {
      "needs_background": "light"
     },
     "output_type": "display_data"
    }
   ],
   "source": [
    "sns.heatmap(clothes.isna(), cbar=False, cmap='crest')\n",
    "plt.show()"
   ]
  },
  {
   "cell_type": "markdown",
   "metadata": {},
   "source": [
    "### Price"
   ]
  },
  {
   "cell_type": "code",
   "execution_count": 13,
   "metadata": {},
   "outputs": [
    {
     "data": {
      "text/html": [
       "<div>\n",
       "<style scoped>\n",
       "    .dataframe tbody tr th:only-of-type {\n",
       "        vertical-align: middle;\n",
       "    }\n",
       "\n",
       "    .dataframe tbody tr th {\n",
       "        vertical-align: top;\n",
       "    }\n",
       "\n",
       "    .dataframe thead th {\n",
       "        text-align: right;\n",
       "    }\n",
       "</style>\n",
       "<table border=\"1\" class=\"dataframe\">\n",
       "  <thead>\n",
       "    <tr style=\"text-align: right;\">\n",
       "      <th></th>\n",
       "      <th>Dress_ID</th>\n",
       "      <th>Style</th>\n",
       "      <th>Price</th>\n",
       "      <th>Rating</th>\n",
       "      <th>Size</th>\n",
       "      <th>Season</th>\n",
       "      <th>NeckLine</th>\n",
       "      <th>SleeveLength</th>\n",
       "      <th>Waistline</th>\n",
       "      <th>Material</th>\n",
       "      <th>FabricType</th>\n",
       "      <th>Decoration</th>\n",
       "      <th>PatternType</th>\n",
       "      <th>Recommendation</th>\n",
       "    </tr>\n",
       "  </thead>\n",
       "  <tbody>\n",
       "    <tr>\n",
       "      <th>262</th>\n",
       "      <td>662727740</td>\n",
       "      <td>party</td>\n",
       "      <td>NaN</td>\n",
       "      <td>4.8</td>\n",
       "      <td>free</td>\n",
       "      <td>Winter</td>\n",
       "      <td>o-neck</td>\n",
       "      <td>sleeveless</td>\n",
       "      <td>empire</td>\n",
       "      <td>NaN</td>\n",
       "      <td>NaN</td>\n",
       "      <td>embroidary</td>\n",
       "      <td>NaN</td>\n",
       "      <td>1</td>\n",
       "    </tr>\n",
       "    <tr>\n",
       "      <th>263</th>\n",
       "      <td>1090993173</td>\n",
       "      <td>party</td>\n",
       "      <td>NaN</td>\n",
       "      <td>4.5</td>\n",
       "      <td>L</td>\n",
       "      <td>Summer</td>\n",
       "      <td>NaN</td>\n",
       "      <td>full</td>\n",
       "      <td>NaN</td>\n",
       "      <td>NaN</td>\n",
       "      <td>NaN</td>\n",
       "      <td>NaN</td>\n",
       "      <td>NaN</td>\n",
       "      <td>1</td>\n",
       "    </tr>\n",
       "  </tbody>\n",
       "</table>\n",
       "</div>"
      ],
      "text/plain": [
       "       Dress_ID  Style Price  Rating  Size  Season NeckLine SleeveLength  \\\n",
       "262   662727740  party   NaN     4.8  free  Winter   o-neck   sleeveless   \n",
       "263  1090993173  party   NaN     4.5     L  Summer      NaN         full   \n",
       "\n",
       "    Waistline Material FabricType  Decoration PatternType  Recommendation  \n",
       "262    empire      NaN        NaN  embroidary         NaN               1  \n",
       "263       NaN      NaN        NaN         NaN         NaN               1  "
      ]
     },
     "execution_count": 13,
     "metadata": {},
     "output_type": "execute_result"
    }
   ],
   "source": [
    "clothes[clothes['Price'].isnull()]"
   ]
  },
  {
   "cell_type": "code",
   "execution_count": 14,
   "metadata": {},
   "outputs": [
    {
     "data": {
      "text/plain": [
       "Medium       282\n",
       "Low          174\n",
       "very-high     21\n",
       "High          21\n",
       "Name: Price, dtype: int64"
      ]
     },
     "execution_count": 14,
     "metadata": {},
     "output_type": "execute_result"
    }
   ],
   "source": [
    "clothes['Price'].value_counts()"
   ]
  },
  {
   "cell_type": "code",
   "execution_count": 15,
   "metadata": {},
   "outputs": [],
   "source": [
    "# replace NaNs with Medium\n",
    "clothes[\"Price\"].fillna(\"Medium\", inplace = True)"
   ]
  },
  {
   "cell_type": "code",
   "execution_count": 16,
   "metadata": {},
   "outputs": [],
   "source": [
    "# check that change has been made\n",
    "#clothes.loc[262:264,:]"
   ]
  },
  {
   "cell_type": "markdown",
   "metadata": {},
   "source": [
    "### Season"
   ]
  },
  {
   "cell_type": "code",
   "execution_count": 17,
   "metadata": {},
   "outputs": [
    {
     "data": {
      "text/html": [
       "<div>\n",
       "<style scoped>\n",
       "    .dataframe tbody tr th:only-of-type {\n",
       "        vertical-align: middle;\n",
       "    }\n",
       "\n",
       "    .dataframe tbody tr th {\n",
       "        vertical-align: top;\n",
       "    }\n",
       "\n",
       "    .dataframe thead th {\n",
       "        text-align: right;\n",
       "    }\n",
       "</style>\n",
       "<table border=\"1\" class=\"dataframe\">\n",
       "  <thead>\n",
       "    <tr style=\"text-align: right;\">\n",
       "      <th></th>\n",
       "      <th>Dress_ID</th>\n",
       "      <th>Style</th>\n",
       "      <th>Price</th>\n",
       "      <th>Rating</th>\n",
       "      <th>Size</th>\n",
       "      <th>Season</th>\n",
       "      <th>NeckLine</th>\n",
       "      <th>SleeveLength</th>\n",
       "      <th>Waistline</th>\n",
       "      <th>Material</th>\n",
       "      <th>FabricType</th>\n",
       "      <th>Decoration</th>\n",
       "      <th>PatternType</th>\n",
       "      <th>Recommendation</th>\n",
       "    </tr>\n",
       "  </thead>\n",
       "  <tbody>\n",
       "    <tr>\n",
       "      <th>186</th>\n",
       "      <td>929797706</td>\n",
       "      <td>Casual</td>\n",
       "      <td>Low</td>\n",
       "      <td>0.0</td>\n",
       "      <td>free</td>\n",
       "      <td>NaN</td>\n",
       "      <td>o-neck</td>\n",
       "      <td>full</td>\n",
       "      <td>natural</td>\n",
       "      <td>cotton</td>\n",
       "      <td>NaN</td>\n",
       "      <td>NaN</td>\n",
       "      <td>patchwork</td>\n",
       "      <td>0</td>\n",
       "    </tr>\n",
       "    <tr>\n",
       "      <th>270</th>\n",
       "      <td>751364623</td>\n",
       "      <td>party</td>\n",
       "      <td>Medium</td>\n",
       "      <td>4.8</td>\n",
       "      <td>L</td>\n",
       "      <td>NaN</td>\n",
       "      <td>Sweetheart</td>\n",
       "      <td>sleeveless</td>\n",
       "      <td>empire</td>\n",
       "      <td>NaN</td>\n",
       "      <td>NaN</td>\n",
       "      <td>pleat</td>\n",
       "      <td>NaN</td>\n",
       "      <td>1</td>\n",
       "    </tr>\n",
       "  </tbody>\n",
       "</table>\n",
       "</div>"
      ],
      "text/plain": [
       "      Dress_ID   Style   Price  Rating  Size Season    NeckLine SleeveLength  \\\n",
       "186  929797706  Casual     Low     0.0  free    NaN      o-neck         full   \n",
       "270  751364623   party  Medium     4.8     L    NaN  Sweetheart   sleeveless   \n",
       "\n",
       "    Waistline Material FabricType Decoration PatternType  Recommendation  \n",
       "186   natural   cotton        NaN        NaN   patchwork               0  \n",
       "270    empire      NaN        NaN      pleat         NaN               1  "
      ]
     },
     "execution_count": 17,
     "metadata": {},
     "output_type": "execute_result"
    }
   ],
   "source": [
    "clothes[clothes['Season'].isnull()]"
   ]
  },
  {
   "cell_type": "code",
   "execution_count": 18,
   "metadata": {},
   "outputs": [
    {
     "data": {
      "text/plain": [
       "Summer    160\n",
       "Winter    145\n",
       "Spring    124\n",
       "Autumn     69\n",
       "Name: Season, dtype: int64"
      ]
     },
     "execution_count": 18,
     "metadata": {},
     "output_type": "execute_result"
    }
   ],
   "source": [
    "clothes['Season'].value_counts()"
   ]
  },
  {
   "cell_type": "markdown",
   "metadata": {},
   "source": [
    "Find similar dresses to the ones with null values for Season."
   ]
  },
  {
   "cell_type": "code",
   "execution_count": 19,
   "metadata": {},
   "outputs": [
    {
     "data": {
      "text/plain": [
       "Summer    5\n",
       "Spring    1\n",
       "Autumn    1\n",
       "Name: Season, dtype: int64"
      ]
     },
     "execution_count": 19,
     "metadata": {},
     "output_type": "execute_result"
    }
   ],
   "source": [
    "clothes.loc[(clothes['Style']=='Casual') & (clothes['SleeveLength']=='full') & (clothes['NeckLine']=='o-neck') & (clothes['Size']=='free') & (clothes['Material']=='cotton')]['Season'].value_counts()"
   ]
  },
  {
   "cell_type": "code",
   "execution_count": 20,
   "metadata": {},
   "outputs": [
    {
     "data": {
      "text/plain": [
       "Spring    3\n",
       "Name: Season, dtype: int64"
      ]
     },
     "execution_count": 20,
     "metadata": {},
     "output_type": "execute_result"
    }
   ],
   "source": [
    "clothes.loc[(clothes['Style']=='party') & (clothes['NeckLine']=='Sweetheart') & (clothes['Waistline']=='empire')]['Season'].value_counts()"
   ]
  },
  {
   "cell_type": "code",
   "execution_count": 21,
   "metadata": {},
   "outputs": [],
   "source": [
    "clothes.loc[186, \"Season\"] = 'Summer'"
   ]
  },
  {
   "cell_type": "code",
   "execution_count": 22,
   "metadata": {},
   "outputs": [
    {
     "data": {
      "text/plain": [
       "Dress_ID          929797706\n",
       "Style                Casual\n",
       "Price                   Low\n",
       "Rating                    0\n",
       "Size                   free\n",
       "Season               Summer\n",
       "NeckLine             o-neck\n",
       "SleeveLength           full\n",
       "Waistline           natural\n",
       "Material             cotton\n",
       "FabricType              NaN\n",
       "Decoration              NaN\n",
       "PatternType       patchwork\n",
       "Recommendation            0\n",
       "Name: 186, dtype: object"
      ]
     },
     "execution_count": 22,
     "metadata": {},
     "output_type": "execute_result"
    }
   ],
   "source": [
    "clothes.loc[186,:]"
   ]
  },
  {
   "cell_type": "code",
   "execution_count": 23,
   "metadata": {},
   "outputs": [],
   "source": [
    "clothes.loc[270, \"Season\"] = 'Spring'"
   ]
  },
  {
   "cell_type": "code",
   "execution_count": 24,
   "metadata": {},
   "outputs": [
    {
     "data": {
      "text/plain": [
       "'Spring'"
      ]
     },
     "execution_count": 24,
     "metadata": {},
     "output_type": "execute_result"
    }
   ],
   "source": [
    "clothes.loc[270,\"Season\"]"
   ]
  },
  {
   "cell_type": "code",
   "execution_count": 25,
   "metadata": {},
   "outputs": [
    {
     "data": {
      "text/plain": [
       "0"
      ]
     },
     "execution_count": 25,
     "metadata": {},
     "output_type": "execute_result"
    }
   ],
   "source": [
    "sum(clothes['Season'].isnull())"
   ]
  },
  {
   "cell_type": "markdown",
   "metadata": {},
   "source": [
    "### Neckline"
   ]
  },
  {
   "cell_type": "code",
   "execution_count": 26,
   "metadata": {},
   "outputs": [
    {
     "data": {
      "text/html": [
       "<div>\n",
       "<style scoped>\n",
       "    .dataframe tbody tr th:only-of-type {\n",
       "        vertical-align: middle;\n",
       "    }\n",
       "\n",
       "    .dataframe tbody tr th {\n",
       "        vertical-align: top;\n",
       "    }\n",
       "\n",
       "    .dataframe thead th {\n",
       "        text-align: right;\n",
       "    }\n",
       "</style>\n",
       "<table border=\"1\" class=\"dataframe\">\n",
       "  <thead>\n",
       "    <tr style=\"text-align: right;\">\n",
       "      <th></th>\n",
       "      <th>Dress_ID</th>\n",
       "      <th>Style</th>\n",
       "      <th>Price</th>\n",
       "      <th>Rating</th>\n",
       "      <th>Size</th>\n",
       "      <th>Season</th>\n",
       "      <th>NeckLine</th>\n",
       "      <th>SleeveLength</th>\n",
       "      <th>Waistline</th>\n",
       "      <th>Material</th>\n",
       "      <th>FabricType</th>\n",
       "      <th>Decoration</th>\n",
       "      <th>PatternType</th>\n",
       "      <th>Recommendation</th>\n",
       "    </tr>\n",
       "  </thead>\n",
       "  <tbody>\n",
       "    <tr>\n",
       "      <th>263</th>\n",
       "      <td>1090993173</td>\n",
       "      <td>party</td>\n",
       "      <td>Medium</td>\n",
       "      <td>4.5</td>\n",
       "      <td>L</td>\n",
       "      <td>Summer</td>\n",
       "      <td>NaN</td>\n",
       "      <td>full</td>\n",
       "      <td>NaN</td>\n",
       "      <td>NaN</td>\n",
       "      <td>NaN</td>\n",
       "      <td>NaN</td>\n",
       "      <td>NaN</td>\n",
       "      <td>1</td>\n",
       "    </tr>\n",
       "    <tr>\n",
       "      <th>329</th>\n",
       "      <td>858212832</td>\n",
       "      <td>cute</td>\n",
       "      <td>Medium</td>\n",
       "      <td>4.3</td>\n",
       "      <td>M</td>\n",
       "      <td>Summer</td>\n",
       "      <td>NaN</td>\n",
       "      <td>NaN</td>\n",
       "      <td>natural</td>\n",
       "      <td>cotton</td>\n",
       "      <td>chiffon</td>\n",
       "      <td>NaN</td>\n",
       "      <td>solid</td>\n",
       "      <td>0</td>\n",
       "    </tr>\n",
       "    <tr>\n",
       "      <th>384</th>\n",
       "      <td>855418066</td>\n",
       "      <td>Casual</td>\n",
       "      <td>Low</td>\n",
       "      <td>4.7</td>\n",
       "      <td>L</td>\n",
       "      <td>Summer</td>\n",
       "      <td>NaN</td>\n",
       "      <td>sleeveless</td>\n",
       "      <td>NaN</td>\n",
       "      <td>cotton</td>\n",
       "      <td>NaN</td>\n",
       "      <td>NaN</td>\n",
       "      <td>solid</td>\n",
       "      <td>1</td>\n",
       "    </tr>\n",
       "  </tbody>\n",
       "</table>\n",
       "</div>"
      ],
      "text/plain": [
       "       Dress_ID   Style   Price  Rating Size  Season NeckLine SleeveLength  \\\n",
       "263  1090993173   party  Medium     4.5    L  Summer      NaN         full   \n",
       "329   858212832    cute  Medium     4.3    M  Summer      NaN          NaN   \n",
       "384   855418066  Casual     Low     4.7    L  Summer      NaN   sleeveless   \n",
       "\n",
       "    Waistline Material FabricType Decoration PatternType  Recommendation  \n",
       "263       NaN      NaN        NaN        NaN         NaN               1  \n",
       "329   natural   cotton    chiffon        NaN       solid               0  \n",
       "384       NaN   cotton        NaN        NaN       solid               1  "
      ]
     },
     "execution_count": 26,
     "metadata": {},
     "output_type": "execute_result"
    }
   ],
   "source": [
    "clothes[clothes['NeckLine'].isnull()]"
   ]
  },
  {
   "cell_type": "code",
   "execution_count": 27,
   "metadata": {},
   "outputs": [
    {
     "data": {
      "text/plain": [
       "o-neck             271\n",
       "v-neck             124\n",
       "slash-neck          25\n",
       "boat-neck           19\n",
       "Sweetheart          14\n",
       "turndowncollor      13\n",
       "bowneck             10\n",
       "peterpan-collor      6\n",
       "sqare-collor         5\n",
       "open                 3\n",
       "Scoop                2\n",
       "ruffled              1\n",
       "backless             1\n",
       "halter               1\n",
       "sweetheart           1\n",
       "mandarin-collor      1\n",
       "Name: NeckLine, dtype: int64"
      ]
     },
     "execution_count": 27,
     "metadata": {},
     "output_type": "execute_result"
    }
   ],
   "source": [
    "clothes['NeckLine'].value_counts()\n",
    "# 3 summer dresses ->  o-neck     definitely could be wrong"
   ]
  },
  {
   "cell_type": "code",
   "execution_count": 28,
   "metadata": {},
   "outputs": [
    {
     "data": {
      "text/plain": [
       "o-neck        4\n",
       "Sweetheart    1\n",
       "slash-neck    1\n",
       "v-neck        1\n",
       "Name: NeckLine, dtype: int64"
      ]
     },
     "execution_count": 28,
     "metadata": {},
     "output_type": "execute_result"
    }
   ],
   "source": [
    "clothes.loc[(clothes['Style']=='party') & (clothes['Season']=='Summer')]['NeckLine'].value_counts()"
   ]
  },
  {
   "cell_type": "code",
   "execution_count": 29,
   "metadata": {},
   "outputs": [
    {
     "data": {
      "text/plain": [
       "o-neck             10\n",
       "boat-neck           3\n",
       "peterpan-collor     1\n",
       "bowneck             1\n",
       "Name: NeckLine, dtype: int64"
      ]
     },
     "execution_count": 29,
     "metadata": {},
     "output_type": "execute_result"
    }
   ],
   "source": [
    "clothes.loc[(clothes['Style']=='cute') & (clothes['Season']=='Summer')]['NeckLine'].value_counts()"
   ]
  },
  {
   "cell_type": "code",
   "execution_count": 30,
   "metadata": {},
   "outputs": [
    {
     "data": {
      "text/plain": [
       "o-neck             49\n",
       "v-neck             15\n",
       "boat-neck           3\n",
       "turndowncollor      2\n",
       "bowneck             2\n",
       "backless            1\n",
       "slash-neck          1\n",
       "peterpan-collor     1\n",
       "Sweetheart          1\n",
       "Name: NeckLine, dtype: int64"
      ]
     },
     "execution_count": 30,
     "metadata": {},
     "output_type": "execute_result"
    }
   ],
   "source": [
    "clothes.loc[(clothes['Style']=='Casual') & (clothes['Season']=='Summer')]['NeckLine'].value_counts()\n",
    "# o - neck for all 3"
   ]
  },
  {
   "cell_type": "markdown",
   "metadata": {},
   "source": [
    "An o-neck is the most common neckline in this dresses dataset. After looking at similar dresses to the 3 rows with a null value, o-neck is still most popular."
   ]
  },
  {
   "cell_type": "code",
   "execution_count": 31,
   "metadata": {},
   "outputs": [],
   "source": [
    "clothes[\"NeckLine\"].fillna(\"o-neck\", inplace = True)"
   ]
  },
  {
   "cell_type": "markdown",
   "metadata": {},
   "source": [
    "### Sleeve Length"
   ]
  },
  {
   "cell_type": "code",
   "execution_count": 32,
   "metadata": {},
   "outputs": [
    {
     "data": {
      "text/html": [
       "<div>\n",
       "<style scoped>\n",
       "    .dataframe tbody tr th:only-of-type {\n",
       "        vertical-align: middle;\n",
       "    }\n",
       "\n",
       "    .dataframe tbody tr th {\n",
       "        vertical-align: top;\n",
       "    }\n",
       "\n",
       "    .dataframe thead th {\n",
       "        text-align: right;\n",
       "    }\n",
       "</style>\n",
       "<table border=\"1\" class=\"dataframe\">\n",
       "  <thead>\n",
       "    <tr style=\"text-align: right;\">\n",
       "      <th></th>\n",
       "      <th>Dress_ID</th>\n",
       "      <th>Style</th>\n",
       "      <th>Price</th>\n",
       "      <th>Rating</th>\n",
       "      <th>Size</th>\n",
       "      <th>Season</th>\n",
       "      <th>NeckLine</th>\n",
       "      <th>SleeveLength</th>\n",
       "      <th>Waistline</th>\n",
       "      <th>Material</th>\n",
       "      <th>FabricType</th>\n",
       "      <th>Decoration</th>\n",
       "      <th>PatternType</th>\n",
       "      <th>Recommendation</th>\n",
       "    </tr>\n",
       "  </thead>\n",
       "  <tbody>\n",
       "    <tr>\n",
       "      <th>329</th>\n",
       "      <td>858212832</td>\n",
       "      <td>cute</td>\n",
       "      <td>Medium</td>\n",
       "      <td>4.3</td>\n",
       "      <td>M</td>\n",
       "      <td>Summer</td>\n",
       "      <td>o-neck</td>\n",
       "      <td>NaN</td>\n",
       "      <td>natural</td>\n",
       "      <td>cotton</td>\n",
       "      <td>chiffon</td>\n",
       "      <td>NaN</td>\n",
       "      <td>solid</td>\n",
       "      <td>0</td>\n",
       "    </tr>\n",
       "    <tr>\n",
       "      <th>441</th>\n",
       "      <td>1055149353</td>\n",
       "      <td>Sexy</td>\n",
       "      <td>Low</td>\n",
       "      <td>0.0</td>\n",
       "      <td>free</td>\n",
       "      <td>Winter</td>\n",
       "      <td>v-neck</td>\n",
       "      <td>NaN</td>\n",
       "      <td>dropped</td>\n",
       "      <td>cotton</td>\n",
       "      <td>NaN</td>\n",
       "      <td>lace</td>\n",
       "      <td>NaN</td>\n",
       "      <td>1</td>\n",
       "    </tr>\n",
       "  </tbody>\n",
       "</table>\n",
       "</div>"
      ],
      "text/plain": [
       "       Dress_ID Style   Price  Rating  Size  Season NeckLine SleeveLength  \\\n",
       "329   858212832  cute  Medium     4.3     M  Summer   o-neck          NaN   \n",
       "441  1055149353  Sexy     Low     0.0  free  Winter   v-neck          NaN   \n",
       "\n",
       "    Waistline Material FabricType Decoration PatternType  Recommendation  \n",
       "329   natural   cotton    chiffon        NaN       solid               0  \n",
       "441   dropped   cotton        NaN       lace         NaN               1  "
      ]
     },
     "execution_count": 32,
     "metadata": {},
     "output_type": "execute_result"
    }
   ],
   "source": [
    "clothes[clothes['SleeveLength'].isnull()]"
   ]
  },
  {
   "cell_type": "code",
   "execution_count": 33,
   "metadata": {},
   "outputs": [
    {
     "data": {
      "text/plain": [
       "sleeveless        232\n",
       "full               97\n",
       "short              96\n",
       "half               36\n",
       "threequarter       28\n",
       "capsleeves          3\n",
       "cap-sleeves         2\n",
       "urndowncollor       1\n",
       "turndowncollor      1\n",
       "butterfly           1\n",
       "Petal               1\n",
       "Name: SleeveLength, dtype: int64"
      ]
     },
     "execution_count": 33,
     "metadata": {},
     "output_type": "execute_result"
    }
   ],
   "source": [
    "clothes['SleeveLength'].value_counts()"
   ]
  },
  {
   "cell_type": "markdown",
   "metadata": {},
   "source": [
    "Most dresses are sleeveless, but since there are only 2 with null values for SleeveLength, I want to find similar dresses before deciding. After picking a few determinant attributes, I found that most of these dresses are also sleeveless. "
   ]
  },
  {
   "cell_type": "code",
   "execution_count": 34,
   "metadata": {},
   "outputs": [
    {
     "data": {
      "text/plain": [
       "sleeveless    9\n",
       "short         5\n",
       "butterfly     1\n",
       "Name: SleeveLength, dtype: int64"
      ]
     },
     "execution_count": 34,
     "metadata": {},
     "output_type": "execute_result"
    }
   ],
   "source": [
    "clothes.loc[(clothes['Style']=='cute') & (clothes['Season']=='Summer')]['SleeveLength'].value_counts()  # sleeveless is top\n",
    "# sleeveless\n"
   ]
  },
  {
   "cell_type": "code",
   "execution_count": 35,
   "metadata": {},
   "outputs": [
    {
     "data": {
      "text/plain": [
       "sleeveless    8\n",
       "Name: SleeveLength, dtype: int64"
      ]
     },
     "execution_count": 35,
     "metadata": {},
     "output_type": "execute_result"
    }
   ],
   "source": [
    "clothes.loc[(clothes['Style']=='Sexy') & (clothes['Season']=='Winter') & (clothes['NeckLine']=='v-neck')]['SleeveLength'].value_counts() # sleeveless is More top\n",
    "# sleeveless"
   ]
  },
  {
   "cell_type": "code",
   "execution_count": 36,
   "metadata": {},
   "outputs": [],
   "source": [
    "clothes[\"SleeveLength\"].fillna(\"sleeveless\", inplace = True)"
   ]
  },
  {
   "cell_type": "markdown",
   "metadata": {},
   "source": [
    "### Waistline"
   ]
  },
  {
   "cell_type": "code",
   "execution_count": 37,
   "metadata": {},
   "outputs": [
    {
     "data": {
      "text/html": [
       "<div>\n",
       "<style scoped>\n",
       "    .dataframe tbody tr th:only-of-type {\n",
       "        vertical-align: middle;\n",
       "    }\n",
       "\n",
       "    .dataframe tbody tr th {\n",
       "        vertical-align: top;\n",
       "    }\n",
       "\n",
       "    .dataframe thead th {\n",
       "        text-align: right;\n",
       "    }\n",
       "</style>\n",
       "<table border=\"1\" class=\"dataframe\">\n",
       "  <thead>\n",
       "    <tr style=\"text-align: right;\">\n",
       "      <th></th>\n",
       "      <th>Dress_ID</th>\n",
       "      <th>Style</th>\n",
       "      <th>Price</th>\n",
       "      <th>Rating</th>\n",
       "      <th>Size</th>\n",
       "      <th>Season</th>\n",
       "      <th>NeckLine</th>\n",
       "      <th>SleeveLength</th>\n",
       "      <th>Waistline</th>\n",
       "      <th>Material</th>\n",
       "      <th>FabricType</th>\n",
       "      <th>Decoration</th>\n",
       "      <th>PatternType</th>\n",
       "      <th>Recommendation</th>\n",
       "    </tr>\n",
       "  </thead>\n",
       "  <tbody>\n",
       "    <tr>\n",
       "      <th>6</th>\n",
       "      <td>1220707172</td>\n",
       "      <td>Casual</td>\n",
       "      <td>Medium</td>\n",
       "      <td>0.0</td>\n",
       "      <td>XL</td>\n",
       "      <td>Summer</td>\n",
       "      <td>o-neck</td>\n",
       "      <td>full</td>\n",
       "      <td>NaN</td>\n",
       "      <td>cotton</td>\n",
       "      <td>NaN</td>\n",
       "      <td>NaN</td>\n",
       "      <td>solid</td>\n",
       "      <td>0</td>\n",
       "    </tr>\n",
       "    <tr>\n",
       "      <th>11</th>\n",
       "      <td>898481530</td>\n",
       "      <td>Flare</td>\n",
       "      <td>Medium</td>\n",
       "      <td>0.0</td>\n",
       "      <td>free</td>\n",
       "      <td>Spring</td>\n",
       "      <td>v-neck</td>\n",
       "      <td>short</td>\n",
       "      <td>NaN</td>\n",
       "      <td>nylon</td>\n",
       "      <td>NaN</td>\n",
       "      <td>NaN</td>\n",
       "      <td>animal</td>\n",
       "      <td>0</td>\n",
       "    </tr>\n",
       "    <tr>\n",
       "      <th>12</th>\n",
       "      <td>957723897</td>\n",
       "      <td>sexy</td>\n",
       "      <td>Low</td>\n",
       "      <td>4.7</td>\n",
       "      <td>M</td>\n",
       "      <td>Winter</td>\n",
       "      <td>o-neck</td>\n",
       "      <td>threequarter</td>\n",
       "      <td>NaN</td>\n",
       "      <td>NaN</td>\n",
       "      <td>chiffon</td>\n",
       "      <td>lace</td>\n",
       "      <td>print</td>\n",
       "      <td>1</td>\n",
       "    </tr>\n",
       "    <tr>\n",
       "      <th>14</th>\n",
       "      <td>1055411544</td>\n",
       "      <td>Casual</td>\n",
       "      <td>Low</td>\n",
       "      <td>5.0</td>\n",
       "      <td>M</td>\n",
       "      <td>Summer</td>\n",
       "      <td>boat-neck</td>\n",
       "      <td>short</td>\n",
       "      <td>NaN</td>\n",
       "      <td>cotton</td>\n",
       "      <td>NaN</td>\n",
       "      <td>sashes</td>\n",
       "      <td>solid</td>\n",
       "      <td>0</td>\n",
       "    </tr>\n",
       "    <tr>\n",
       "      <th>15</th>\n",
       "      <td>1162628131</td>\n",
       "      <td>Casual</td>\n",
       "      <td>Low</td>\n",
       "      <td>0.0</td>\n",
       "      <td>free</td>\n",
       "      <td>Winter</td>\n",
       "      <td>boat-neck</td>\n",
       "      <td>full</td>\n",
       "      <td>NaN</td>\n",
       "      <td>other</td>\n",
       "      <td>other</td>\n",
       "      <td>lace</td>\n",
       "      <td>NaN</td>\n",
       "      <td>0</td>\n",
       "    </tr>\n",
       "    <tr>\n",
       "      <th>...</th>\n",
       "      <td>...</td>\n",
       "      <td>...</td>\n",
       "      <td>...</td>\n",
       "      <td>...</td>\n",
       "      <td>...</td>\n",
       "      <td>...</td>\n",
       "      <td>...</td>\n",
       "      <td>...</td>\n",
       "      <td>...</td>\n",
       "      <td>...</td>\n",
       "      <td>...</td>\n",
       "      <td>...</td>\n",
       "      <td>...</td>\n",
       "      <td>...</td>\n",
       "    </tr>\n",
       "    <tr>\n",
       "      <th>464</th>\n",
       "      <td>1253973206</td>\n",
       "      <td>cute</td>\n",
       "      <td>Low</td>\n",
       "      <td>0.0</td>\n",
       "      <td>M</td>\n",
       "      <td>Summer</td>\n",
       "      <td>boat-neck</td>\n",
       "      <td>short</td>\n",
       "      <td>NaN</td>\n",
       "      <td>NaN</td>\n",
       "      <td>chiffon</td>\n",
       "      <td>sashes</td>\n",
       "      <td>NaN</td>\n",
       "      <td>0</td>\n",
       "    </tr>\n",
       "    <tr>\n",
       "      <th>465</th>\n",
       "      <td>828790972</td>\n",
       "      <td>party</td>\n",
       "      <td>Medium</td>\n",
       "      <td>4.9</td>\n",
       "      <td>M</td>\n",
       "      <td>Winter</td>\n",
       "      <td>o-neck</td>\n",
       "      <td>half</td>\n",
       "      <td>NaN</td>\n",
       "      <td>cotton</td>\n",
       "      <td>NaN</td>\n",
       "      <td>lace</td>\n",
       "      <td>NaN</td>\n",
       "      <td>1</td>\n",
       "    </tr>\n",
       "    <tr>\n",
       "      <th>466</th>\n",
       "      <td>933413410</td>\n",
       "      <td>Casual</td>\n",
       "      <td>Medium</td>\n",
       "      <td>4.8</td>\n",
       "      <td>M</td>\n",
       "      <td>Summer</td>\n",
       "      <td>o-neck</td>\n",
       "      <td>half</td>\n",
       "      <td>NaN</td>\n",
       "      <td>NaN</td>\n",
       "      <td>NaN</td>\n",
       "      <td>NaN</td>\n",
       "      <td>NaN</td>\n",
       "      <td>0</td>\n",
       "    </tr>\n",
       "    <tr>\n",
       "      <th>470</th>\n",
       "      <td>1124754999</td>\n",
       "      <td>Sexy</td>\n",
       "      <td>Medium</td>\n",
       "      <td>0.0</td>\n",
       "      <td>S</td>\n",
       "      <td>Summer</td>\n",
       "      <td>v-neck</td>\n",
       "      <td>sleeveless</td>\n",
       "      <td>NaN</td>\n",
       "      <td>NaN</td>\n",
       "      <td>NaN</td>\n",
       "      <td>NaN</td>\n",
       "      <td>NaN</td>\n",
       "      <td>1</td>\n",
       "    </tr>\n",
       "    <tr>\n",
       "      <th>471</th>\n",
       "      <td>832949213</td>\n",
       "      <td>Casual</td>\n",
       "      <td>Low</td>\n",
       "      <td>4.4</td>\n",
       "      <td>free</td>\n",
       "      <td>Summer</td>\n",
       "      <td>o-neck</td>\n",
       "      <td>sleeveless</td>\n",
       "      <td>NaN</td>\n",
       "      <td>NaN</td>\n",
       "      <td>NaN</td>\n",
       "      <td>NaN</td>\n",
       "      <td>animal</td>\n",
       "      <td>0</td>\n",
       "    </tr>\n",
       "  </tbody>\n",
       "</table>\n",
       "<p>87 rows × 14 columns</p>\n",
       "</div>"
      ],
      "text/plain": [
       "       Dress_ID   Style   Price  Rating  Size  Season   NeckLine  \\\n",
       "6    1220707172  Casual  Medium     0.0    XL  Summer     o-neck   \n",
       "11    898481530   Flare  Medium     0.0  free  Spring     v-neck   \n",
       "12    957723897    sexy     Low     4.7     M  Winter     o-neck   \n",
       "14   1055411544  Casual     Low     5.0     M  Summer  boat-neck   \n",
       "15   1162628131  Casual     Low     0.0  free  Winter  boat-neck   \n",
       "..          ...     ...     ...     ...   ...     ...        ...   \n",
       "464  1253973206    cute     Low     0.0     M  Summer  boat-neck   \n",
       "465   828790972   party  Medium     4.9     M  Winter     o-neck   \n",
       "466   933413410  Casual  Medium     4.8     M  Summer     o-neck   \n",
       "470  1124754999    Sexy  Medium     0.0     S  Summer     v-neck   \n",
       "471   832949213  Casual     Low     4.4  free  Summer     o-neck   \n",
       "\n",
       "     SleeveLength Waistline Material FabricType Decoration PatternType  \\\n",
       "6            full       NaN   cotton        NaN        NaN       solid   \n",
       "11          short       NaN    nylon        NaN        NaN      animal   \n",
       "12   threequarter       NaN      NaN    chiffon       lace       print   \n",
       "14          short       NaN   cotton        NaN     sashes       solid   \n",
       "15           full       NaN    other      other       lace         NaN   \n",
       "..            ...       ...      ...        ...        ...         ...   \n",
       "464         short       NaN      NaN    chiffon     sashes         NaN   \n",
       "465          half       NaN   cotton        NaN       lace         NaN   \n",
       "466          half       NaN      NaN        NaN        NaN         NaN   \n",
       "470    sleeveless       NaN      NaN        NaN        NaN         NaN   \n",
       "471    sleeveless       NaN      NaN        NaN        NaN      animal   \n",
       "\n",
       "     Recommendation  \n",
       "6                 0  \n",
       "11                0  \n",
       "12                1  \n",
       "14                0  \n",
       "15                0  \n",
       "..              ...  \n",
       "464               0  \n",
       "465               1  \n",
       "466               0  \n",
       "470               1  \n",
       "471               0  \n",
       "\n",
       "[87 rows x 14 columns]"
      ]
     },
     "execution_count": 37,
     "metadata": {},
     "output_type": "execute_result"
    }
   ],
   "source": [
    "clothes[clothes['Waistline'].isnull()]"
   ]
  },
  {
   "cell_type": "code",
   "execution_count": 38,
   "metadata": {},
   "outputs": [
    {
     "data": {
      "text/plain": [
       "natural     304\n",
       "empire      104\n",
       "dropped       4\n",
       "princess      1\n",
       "Name: Waistline, dtype: int64"
      ]
     },
     "execution_count": 38,
     "metadata": {},
     "output_type": "execute_result"
    }
   ],
   "source": [
    "clothes['Waistline'].value_counts()\n",
    "# nulls -> natural"
   ]
  },
  {
   "cell_type": "markdown",
   "metadata": {},
   "source": [
    "More than half of the dresses have a natural waistline, so I will fill the nulls with this most common waistline type.\n",
    "\n",
    "- no waist - "
   ]
  },
  {
   "cell_type": "code",
   "execution_count": 39,
   "metadata": {},
   "outputs": [],
   "source": [
    "clothes[\"Waistline\"].fillna(\"natural\", inplace = True)"
   ]
  },
  {
   "cell_type": "markdown",
   "metadata": {},
   "source": [
    "### Material"
   ]
  },
  {
   "cell_type": "code",
   "execution_count": 40,
   "metadata": {},
   "outputs": [
    {
     "data": {
      "text/html": [
       "<div>\n",
       "<style scoped>\n",
       "    .dataframe tbody tr th:only-of-type {\n",
       "        vertical-align: middle;\n",
       "    }\n",
       "\n",
       "    .dataframe tbody tr th {\n",
       "        vertical-align: top;\n",
       "    }\n",
       "\n",
       "    .dataframe thead th {\n",
       "        text-align: right;\n",
       "    }\n",
       "</style>\n",
       "<table border=\"1\" class=\"dataframe\">\n",
       "  <thead>\n",
       "    <tr style=\"text-align: right;\">\n",
       "      <th></th>\n",
       "      <th>Dress_ID</th>\n",
       "      <th>Style</th>\n",
       "      <th>Price</th>\n",
       "      <th>Rating</th>\n",
       "      <th>Size</th>\n",
       "      <th>Season</th>\n",
       "      <th>NeckLine</th>\n",
       "      <th>SleeveLength</th>\n",
       "      <th>Waistline</th>\n",
       "      <th>Material</th>\n",
       "      <th>FabricType</th>\n",
       "      <th>Decoration</th>\n",
       "      <th>PatternType</th>\n",
       "      <th>Recommendation</th>\n",
       "    </tr>\n",
       "  </thead>\n",
       "  <tbody>\n",
       "    <tr>\n",
       "      <th>0</th>\n",
       "      <td>1006032852</td>\n",
       "      <td>Sexy</td>\n",
       "      <td>Low</td>\n",
       "      <td>4.6</td>\n",
       "      <td>M</td>\n",
       "      <td>Summer</td>\n",
       "      <td>o-neck</td>\n",
       "      <td>sleeveless</td>\n",
       "      <td>empire</td>\n",
       "      <td>NaN</td>\n",
       "      <td>chiffon</td>\n",
       "      <td>ruffles</td>\n",
       "      <td>animal</td>\n",
       "      <td>1</td>\n",
       "    </tr>\n",
       "    <tr>\n",
       "      <th>5</th>\n",
       "      <td>1068332458</td>\n",
       "      <td>bohemian</td>\n",
       "      <td>Low</td>\n",
       "      <td>0.0</td>\n",
       "      <td>M</td>\n",
       "      <td>Summer</td>\n",
       "      <td>v-neck</td>\n",
       "      <td>sleeveless</td>\n",
       "      <td>empire</td>\n",
       "      <td>NaN</td>\n",
       "      <td>NaN</td>\n",
       "      <td>NaN</td>\n",
       "      <td>print</td>\n",
       "      <td>0</td>\n",
       "    </tr>\n",
       "    <tr>\n",
       "      <th>12</th>\n",
       "      <td>957723897</td>\n",
       "      <td>sexy</td>\n",
       "      <td>Low</td>\n",
       "      <td>4.7</td>\n",
       "      <td>M</td>\n",
       "      <td>Winter</td>\n",
       "      <td>o-neck</td>\n",
       "      <td>threequarter</td>\n",
       "      <td>natural</td>\n",
       "      <td>NaN</td>\n",
       "      <td>chiffon</td>\n",
       "      <td>lace</td>\n",
       "      <td>print</td>\n",
       "      <td>1</td>\n",
       "    </tr>\n",
       "    <tr>\n",
       "      <th>17</th>\n",
       "      <td>830467746</td>\n",
       "      <td>bohemian</td>\n",
       "      <td>Medium</td>\n",
       "      <td>5.0</td>\n",
       "      <td>free</td>\n",
       "      <td>Autumn</td>\n",
       "      <td>o-neck</td>\n",
       "      <td>full</td>\n",
       "      <td>natural</td>\n",
       "      <td>NaN</td>\n",
       "      <td>NaN</td>\n",
       "      <td>hollowout</td>\n",
       "      <td>patchwork</td>\n",
       "      <td>1</td>\n",
       "    </tr>\n",
       "    <tr>\n",
       "      <th>21</th>\n",
       "      <td>856178100</td>\n",
       "      <td>Casual</td>\n",
       "      <td>Low</td>\n",
       "      <td>4.3</td>\n",
       "      <td>M</td>\n",
       "      <td>Summer</td>\n",
       "      <td>o-neck</td>\n",
       "      <td>sleeveless</td>\n",
       "      <td>natural</td>\n",
       "      <td>NaN</td>\n",
       "      <td>chiffon</td>\n",
       "      <td>NaN</td>\n",
       "      <td>solid</td>\n",
       "      <td>0</td>\n",
       "    </tr>\n",
       "    <tr>\n",
       "      <th>...</th>\n",
       "      <td>...</td>\n",
       "      <td>...</td>\n",
       "      <td>...</td>\n",
       "      <td>...</td>\n",
       "      <td>...</td>\n",
       "      <td>...</td>\n",
       "      <td>...</td>\n",
       "      <td>...</td>\n",
       "      <td>...</td>\n",
       "      <td>...</td>\n",
       "      <td>...</td>\n",
       "      <td>...</td>\n",
       "      <td>...</td>\n",
       "      <td>...</td>\n",
       "    </tr>\n",
       "    <tr>\n",
       "      <th>466</th>\n",
       "      <td>933413410</td>\n",
       "      <td>Casual</td>\n",
       "      <td>Medium</td>\n",
       "      <td>4.8</td>\n",
       "      <td>M</td>\n",
       "      <td>Summer</td>\n",
       "      <td>o-neck</td>\n",
       "      <td>half</td>\n",
       "      <td>natural</td>\n",
       "      <td>NaN</td>\n",
       "      <td>NaN</td>\n",
       "      <td>NaN</td>\n",
       "      <td>NaN</td>\n",
       "      <td>0</td>\n",
       "    </tr>\n",
       "    <tr>\n",
       "      <th>470</th>\n",
       "      <td>1124754999</td>\n",
       "      <td>Sexy</td>\n",
       "      <td>Medium</td>\n",
       "      <td>0.0</td>\n",
       "      <td>S</td>\n",
       "      <td>Summer</td>\n",
       "      <td>v-neck</td>\n",
       "      <td>sleeveless</td>\n",
       "      <td>natural</td>\n",
       "      <td>NaN</td>\n",
       "      <td>NaN</td>\n",
       "      <td>NaN</td>\n",
       "      <td>NaN</td>\n",
       "      <td>1</td>\n",
       "    </tr>\n",
       "    <tr>\n",
       "      <th>471</th>\n",
       "      <td>832949213</td>\n",
       "      <td>Casual</td>\n",
       "      <td>Low</td>\n",
       "      <td>4.4</td>\n",
       "      <td>free</td>\n",
       "      <td>Summer</td>\n",
       "      <td>o-neck</td>\n",
       "      <td>sleeveless</td>\n",
       "      <td>natural</td>\n",
       "      <td>NaN</td>\n",
       "      <td>NaN</td>\n",
       "      <td>NaN</td>\n",
       "      <td>animal</td>\n",
       "      <td>0</td>\n",
       "    </tr>\n",
       "    <tr>\n",
       "      <th>473</th>\n",
       "      <td>929898500</td>\n",
       "      <td>work</td>\n",
       "      <td>Medium</td>\n",
       "      <td>4.8</td>\n",
       "      <td>M</td>\n",
       "      <td>Winter</td>\n",
       "      <td>turndowncollor</td>\n",
       "      <td>full</td>\n",
       "      <td>natural</td>\n",
       "      <td>NaN</td>\n",
       "      <td>NaN</td>\n",
       "      <td>NaN</td>\n",
       "      <td>solid</td>\n",
       "      <td>0</td>\n",
       "    </tr>\n",
       "    <tr>\n",
       "      <th>485</th>\n",
       "      <td>974775647</td>\n",
       "      <td>Casual</td>\n",
       "      <td>Low</td>\n",
       "      <td>5.0</td>\n",
       "      <td>M</td>\n",
       "      <td>Autumn</td>\n",
       "      <td>o-neck</td>\n",
       "      <td>sleeveless</td>\n",
       "      <td>empire</td>\n",
       "      <td>NaN</td>\n",
       "      <td>chiffon</td>\n",
       "      <td>NaN</td>\n",
       "      <td>print</td>\n",
       "      <td>1</td>\n",
       "    </tr>\n",
       "  </tbody>\n",
       "</table>\n",
       "<p>128 rows × 14 columns</p>\n",
       "</div>"
      ],
      "text/plain": [
       "       Dress_ID     Style   Price  Rating  Size  Season        NeckLine  \\\n",
       "0    1006032852      Sexy     Low     4.6     M  Summer          o-neck   \n",
       "5    1068332458  bohemian     Low     0.0     M  Summer          v-neck   \n",
       "12    957723897      sexy     Low     4.7     M  Winter          o-neck   \n",
       "17    830467746  bohemian  Medium     5.0  free  Autumn          o-neck   \n",
       "21    856178100    Casual     Low     4.3     M  Summer          o-neck   \n",
       "..          ...       ...     ...     ...   ...     ...             ...   \n",
       "466   933413410    Casual  Medium     4.8     M  Summer          o-neck   \n",
       "470  1124754999      Sexy  Medium     0.0     S  Summer          v-neck   \n",
       "471   832949213    Casual     Low     4.4  free  Summer          o-neck   \n",
       "473   929898500      work  Medium     4.8     M  Winter  turndowncollor   \n",
       "485   974775647    Casual     Low     5.0     M  Autumn          o-neck   \n",
       "\n",
       "     SleeveLength Waistline Material FabricType Decoration PatternType  \\\n",
       "0      sleeveless    empire      NaN    chiffon    ruffles      animal   \n",
       "5      sleeveless    empire      NaN        NaN        NaN       print   \n",
       "12   threequarter   natural      NaN    chiffon       lace       print   \n",
       "17           full   natural      NaN        NaN  hollowout   patchwork   \n",
       "21     sleeveless   natural      NaN    chiffon        NaN       solid   \n",
       "..            ...       ...      ...        ...        ...         ...   \n",
       "466          half   natural      NaN        NaN        NaN         NaN   \n",
       "470    sleeveless   natural      NaN        NaN        NaN         NaN   \n",
       "471    sleeveless   natural      NaN        NaN        NaN      animal   \n",
       "473          full   natural      NaN        NaN        NaN       solid   \n",
       "485    sleeveless    empire      NaN    chiffon        NaN       print   \n",
       "\n",
       "     Recommendation  \n",
       "0                 1  \n",
       "5                 0  \n",
       "12                1  \n",
       "17                1  \n",
       "21                0  \n",
       "..              ...  \n",
       "466               0  \n",
       "470               1  \n",
       "471               0  \n",
       "473               0  \n",
       "485               1  \n",
       "\n",
       "[128 rows x 14 columns]"
      ]
     },
     "execution_count": 40,
     "metadata": {},
     "output_type": "execute_result"
    }
   ],
   "source": [
    "clothes[clothes['Material'].isnull()]"
   ]
  },
  {
   "cell_type": "code",
   "execution_count": 41,
   "metadata": {},
   "outputs": [
    {
     "data": {
      "text/plain": [
       "cotton        152\n",
       "polyster       99\n",
       "silk           27\n",
       "chiffon        27\n",
       "mix            12\n",
       "nylon          10\n",
       "rayon          10\n",
       "milksilk        5\n",
       "spandex         5\n",
       "cashmere        4\n",
       "acrylic         3\n",
       "linen           3\n",
       "lycra           3\n",
       "microfiber      3\n",
       "other           2\n",
       "viscos          2\n",
       "model           1\n",
       "knitting        1\n",
       "modal           1\n",
       "lace            1\n",
       "wool            1\n",
       "Name: Material, dtype: int64"
      ]
     },
     "execution_count": 41,
     "metadata": {},
     "output_type": "execute_result"
    }
   ],
   "source": [
    "clothes['Material'].value_counts()\n",
    "# cotton\n",
    "#  or other"
   ]
  },
  {
   "cell_type": "code",
   "execution_count": 42,
   "metadata": {},
   "outputs": [],
   "source": [
    "clothes[\"Material\"].fillna(\"cotton\", inplace = True)\n"
   ]
  },
  {
   "cell_type": "markdown",
   "metadata": {},
   "source": [
    "### Fabric Type"
   ]
  },
  {
   "cell_type": "code",
   "execution_count": 43,
   "metadata": {},
   "outputs": [
    {
     "data": {
      "text/html": [
       "<div>\n",
       "<style scoped>\n",
       "    .dataframe tbody tr th:only-of-type {\n",
       "        vertical-align: middle;\n",
       "    }\n",
       "\n",
       "    .dataframe tbody tr th {\n",
       "        vertical-align: top;\n",
       "    }\n",
       "\n",
       "    .dataframe thead th {\n",
       "        text-align: right;\n",
       "    }\n",
       "</style>\n",
       "<table border=\"1\" class=\"dataframe\">\n",
       "  <thead>\n",
       "    <tr style=\"text-align: right;\">\n",
       "      <th></th>\n",
       "      <th>Dress_ID</th>\n",
       "      <th>Style</th>\n",
       "      <th>Price</th>\n",
       "      <th>Rating</th>\n",
       "      <th>Size</th>\n",
       "      <th>Season</th>\n",
       "      <th>NeckLine</th>\n",
       "      <th>SleeveLength</th>\n",
       "      <th>Waistline</th>\n",
       "      <th>Material</th>\n",
       "      <th>FabricType</th>\n",
       "      <th>Decoration</th>\n",
       "      <th>PatternType</th>\n",
       "      <th>Recommendation</th>\n",
       "    </tr>\n",
       "  </thead>\n",
       "  <tbody>\n",
       "    <tr>\n",
       "      <th>1</th>\n",
       "      <td>1212192089</td>\n",
       "      <td>Casual</td>\n",
       "      <td>Low</td>\n",
       "      <td>0.0</td>\n",
       "      <td>L</td>\n",
       "      <td>Summer</td>\n",
       "      <td>o-neck</td>\n",
       "      <td>Petal</td>\n",
       "      <td>natural</td>\n",
       "      <td>microfiber</td>\n",
       "      <td>NaN</td>\n",
       "      <td>ruffles</td>\n",
       "      <td>animal</td>\n",
       "      <td>0</td>\n",
       "    </tr>\n",
       "    <tr>\n",
       "      <th>2</th>\n",
       "      <td>1190380701</td>\n",
       "      <td>vintage</td>\n",
       "      <td>High</td>\n",
       "      <td>0.0</td>\n",
       "      <td>L</td>\n",
       "      <td>Autumn</td>\n",
       "      <td>o-neck</td>\n",
       "      <td>full</td>\n",
       "      <td>natural</td>\n",
       "      <td>polyster</td>\n",
       "      <td>NaN</td>\n",
       "      <td>NaN</td>\n",
       "      <td>print</td>\n",
       "      <td>0</td>\n",
       "    </tr>\n",
       "    <tr>\n",
       "      <th>5</th>\n",
       "      <td>1068332458</td>\n",
       "      <td>bohemian</td>\n",
       "      <td>Low</td>\n",
       "      <td>0.0</td>\n",
       "      <td>M</td>\n",
       "      <td>Summer</td>\n",
       "      <td>v-neck</td>\n",
       "      <td>sleeveless</td>\n",
       "      <td>empire</td>\n",
       "      <td>cotton</td>\n",
       "      <td>NaN</td>\n",
       "      <td>NaN</td>\n",
       "      <td>print</td>\n",
       "      <td>0</td>\n",
       "    </tr>\n",
       "    <tr>\n",
       "      <th>6</th>\n",
       "      <td>1220707172</td>\n",
       "      <td>Casual</td>\n",
       "      <td>Medium</td>\n",
       "      <td>0.0</td>\n",
       "      <td>XL</td>\n",
       "      <td>Summer</td>\n",
       "      <td>o-neck</td>\n",
       "      <td>full</td>\n",
       "      <td>natural</td>\n",
       "      <td>cotton</td>\n",
       "      <td>NaN</td>\n",
       "      <td>NaN</td>\n",
       "      <td>solid</td>\n",
       "      <td>0</td>\n",
       "    </tr>\n",
       "    <tr>\n",
       "      <th>11</th>\n",
       "      <td>898481530</td>\n",
       "      <td>Flare</td>\n",
       "      <td>Medium</td>\n",
       "      <td>0.0</td>\n",
       "      <td>free</td>\n",
       "      <td>Spring</td>\n",
       "      <td>v-neck</td>\n",
       "      <td>short</td>\n",
       "      <td>natural</td>\n",
       "      <td>nylon</td>\n",
       "      <td>NaN</td>\n",
       "      <td>NaN</td>\n",
       "      <td>animal</td>\n",
       "      <td>0</td>\n",
       "    </tr>\n",
       "    <tr>\n",
       "      <th>...</th>\n",
       "      <td>...</td>\n",
       "      <td>...</td>\n",
       "      <td>...</td>\n",
       "      <td>...</td>\n",
       "      <td>...</td>\n",
       "      <td>...</td>\n",
       "      <td>...</td>\n",
       "      <td>...</td>\n",
       "      <td>...</td>\n",
       "      <td>...</td>\n",
       "      <td>...</td>\n",
       "      <td>...</td>\n",
       "      <td>...</td>\n",
       "      <td>...</td>\n",
       "    </tr>\n",
       "    <tr>\n",
       "      <th>489</th>\n",
       "      <td>1190558632</td>\n",
       "      <td>cute</td>\n",
       "      <td>Medium</td>\n",
       "      <td>0.0</td>\n",
       "      <td>L</td>\n",
       "      <td>Summer</td>\n",
       "      <td>o-neck</td>\n",
       "      <td>sleeveless</td>\n",
       "      <td>empire</td>\n",
       "      <td>cotton</td>\n",
       "      <td>NaN</td>\n",
       "      <td>lace</td>\n",
       "      <td>solid</td>\n",
       "      <td>1</td>\n",
       "    </tr>\n",
       "    <tr>\n",
       "      <th>491</th>\n",
       "      <td>964917582</td>\n",
       "      <td>Casual</td>\n",
       "      <td>Medium</td>\n",
       "      <td>5.0</td>\n",
       "      <td>L</td>\n",
       "      <td>Summer</td>\n",
       "      <td>o-neck</td>\n",
       "      <td>sleeveless</td>\n",
       "      <td>natural</td>\n",
       "      <td>cotton</td>\n",
       "      <td>NaN</td>\n",
       "      <td>NaN</td>\n",
       "      <td>NaN</td>\n",
       "      <td>1</td>\n",
       "    </tr>\n",
       "    <tr>\n",
       "      <th>495</th>\n",
       "      <td>713391965</td>\n",
       "      <td>Casual</td>\n",
       "      <td>Low</td>\n",
       "      <td>4.7</td>\n",
       "      <td>M</td>\n",
       "      <td>Spring</td>\n",
       "      <td>o-neck</td>\n",
       "      <td>full</td>\n",
       "      <td>natural</td>\n",
       "      <td>polyster</td>\n",
       "      <td>NaN</td>\n",
       "      <td>NaN</td>\n",
       "      <td>solid</td>\n",
       "      <td>1</td>\n",
       "    </tr>\n",
       "    <tr>\n",
       "      <th>496</th>\n",
       "      <td>722565148</td>\n",
       "      <td>Sexy</td>\n",
       "      <td>Low</td>\n",
       "      <td>4.3</td>\n",
       "      <td>free</td>\n",
       "      <td>Summer</td>\n",
       "      <td>o-neck</td>\n",
       "      <td>full</td>\n",
       "      <td>empire</td>\n",
       "      <td>cotton</td>\n",
       "      <td>NaN</td>\n",
       "      <td>NaN</td>\n",
       "      <td>NaN</td>\n",
       "      <td>0</td>\n",
       "    </tr>\n",
       "    <tr>\n",
       "      <th>497</th>\n",
       "      <td>532874347</td>\n",
       "      <td>Casual</td>\n",
       "      <td>Medium</td>\n",
       "      <td>4.7</td>\n",
       "      <td>M</td>\n",
       "      <td>Summer</td>\n",
       "      <td>v-neck</td>\n",
       "      <td>full</td>\n",
       "      <td>empire</td>\n",
       "      <td>cotton</td>\n",
       "      <td>NaN</td>\n",
       "      <td>lace</td>\n",
       "      <td>solid</td>\n",
       "      <td>1</td>\n",
       "    </tr>\n",
       "  </tbody>\n",
       "</table>\n",
       "<p>266 rows × 14 columns</p>\n",
       "</div>"
      ],
      "text/plain": [
       "       Dress_ID     Style   Price  Rating  Size  Season NeckLine SleeveLength  \\\n",
       "1    1212192089    Casual     Low     0.0     L  Summer   o-neck        Petal   \n",
       "2    1190380701   vintage    High     0.0     L  Autumn   o-neck         full   \n",
       "5    1068332458  bohemian     Low     0.0     M  Summer   v-neck   sleeveless   \n",
       "6    1220707172    Casual  Medium     0.0    XL  Summer   o-neck         full   \n",
       "11    898481530     Flare  Medium     0.0  free  Spring   v-neck        short   \n",
       "..          ...       ...     ...     ...   ...     ...      ...          ...   \n",
       "489  1190558632      cute  Medium     0.0     L  Summer   o-neck   sleeveless   \n",
       "491   964917582    Casual  Medium     5.0     L  Summer   o-neck   sleeveless   \n",
       "495   713391965    Casual     Low     4.7     M  Spring   o-neck         full   \n",
       "496   722565148      Sexy     Low     4.3  free  Summer   o-neck         full   \n",
       "497   532874347    Casual  Medium     4.7     M  Summer   v-neck         full   \n",
       "\n",
       "    Waistline    Material FabricType Decoration PatternType  Recommendation  \n",
       "1     natural  microfiber        NaN    ruffles      animal               0  \n",
       "2     natural    polyster        NaN        NaN       print               0  \n",
       "5      empire      cotton        NaN        NaN       print               0  \n",
       "6     natural      cotton        NaN        NaN       solid               0  \n",
       "11    natural       nylon        NaN        NaN      animal               0  \n",
       "..        ...         ...        ...        ...         ...             ...  \n",
       "489    empire      cotton        NaN       lace       solid               1  \n",
       "491   natural      cotton        NaN        NaN         NaN               1  \n",
       "495   natural    polyster        NaN        NaN       solid               1  \n",
       "496    empire      cotton        NaN        NaN         NaN               0  \n",
       "497    empire      cotton        NaN       lace       solid               1  \n",
       "\n",
       "[266 rows x 14 columns]"
      ]
     },
     "execution_count": 43,
     "metadata": {},
     "output_type": "execute_result"
    }
   ],
   "source": [
    "clothes[clothes['FabricType'].isnull()]"
   ]
  },
  {
   "cell_type": "code",
   "execution_count": 44,
   "metadata": {},
   "outputs": [
    {
     "data": {
      "text/plain": [
       "chiffon       144\n",
       "broadcloth     31\n",
       "worsted        19\n",
       "jersey         12\n",
       "sattin          6\n",
       "woolen          3\n",
       "tulle           2\n",
       "knitted         2\n",
       "batik           2\n",
       "poplin          2\n",
       "corduroy        2\n",
       "flannel         2\n",
       "dobby           2\n",
       "satin           1\n",
       "organza         1\n",
       "other           1\n",
       "terry           1\n",
       "lace            1\n",
       "Name: FabricType, dtype: int64"
      ]
     },
     "execution_count": 44,
     "metadata": {},
     "output_type": "execute_result"
    }
   ],
   "source": [
    "clothes['FabricType'].value_counts()\n",
    "# other or chiffon (most common)  ?"
   ]
  },
  {
   "cell_type": "markdown",
   "metadata": {},
   "source": [
    "Between Material and Fabric Type, I only want to keep one of these\n",
    "\n",
    "keep just 1\n",
    "\n",
    "Fabric type has more nulls, but chiffon is a clearer winner than cotton in Material.\n"
   ]
  },
  {
   "cell_type": "code",
   "execution_count": 45,
   "metadata": {},
   "outputs": [],
   "source": [
    "# do I want to do this ??\n",
    "\n",
    "clothes[\"FabricType\"].fillna(\"chiffon\", inplace = True)\n",
    "# CHECK"
   ]
  },
  {
   "cell_type": "markdown",
   "metadata": {},
   "source": [
    "### Decorations"
   ]
  },
  {
   "cell_type": "code",
   "execution_count": 46,
   "metadata": {},
   "outputs": [
    {
     "data": {
      "text/html": [
       "<div>\n",
       "<style scoped>\n",
       "    .dataframe tbody tr th:only-of-type {\n",
       "        vertical-align: middle;\n",
       "    }\n",
       "\n",
       "    .dataframe tbody tr th {\n",
       "        vertical-align: top;\n",
       "    }\n",
       "\n",
       "    .dataframe thead th {\n",
       "        text-align: right;\n",
       "    }\n",
       "</style>\n",
       "<table border=\"1\" class=\"dataframe\">\n",
       "  <thead>\n",
       "    <tr style=\"text-align: right;\">\n",
       "      <th></th>\n",
       "      <th>Dress_ID</th>\n",
       "      <th>Style</th>\n",
       "      <th>Price</th>\n",
       "      <th>Rating</th>\n",
       "      <th>Size</th>\n",
       "      <th>Season</th>\n",
       "      <th>NeckLine</th>\n",
       "      <th>SleeveLength</th>\n",
       "      <th>Waistline</th>\n",
       "      <th>Material</th>\n",
       "      <th>FabricType</th>\n",
       "      <th>Decoration</th>\n",
       "      <th>PatternType</th>\n",
       "      <th>Recommendation</th>\n",
       "    </tr>\n",
       "  </thead>\n",
       "  <tbody>\n",
       "    <tr>\n",
       "      <th>2</th>\n",
       "      <td>1190380701</td>\n",
       "      <td>vintage</td>\n",
       "      <td>High</td>\n",
       "      <td>0.0</td>\n",
       "      <td>L</td>\n",
       "      <td>Autumn</td>\n",
       "      <td>o-neck</td>\n",
       "      <td>full</td>\n",
       "      <td>natural</td>\n",
       "      <td>polyster</td>\n",
       "      <td>chiffon</td>\n",
       "      <td>NaN</td>\n",
       "      <td>print</td>\n",
       "      <td>0</td>\n",
       "    </tr>\n",
       "    <tr>\n",
       "      <th>5</th>\n",
       "      <td>1068332458</td>\n",
       "      <td>bohemian</td>\n",
       "      <td>Low</td>\n",
       "      <td>0.0</td>\n",
       "      <td>M</td>\n",
       "      <td>Summer</td>\n",
       "      <td>v-neck</td>\n",
       "      <td>sleeveless</td>\n",
       "      <td>empire</td>\n",
       "      <td>cotton</td>\n",
       "      <td>chiffon</td>\n",
       "      <td>NaN</td>\n",
       "      <td>print</td>\n",
       "      <td>0</td>\n",
       "    </tr>\n",
       "    <tr>\n",
       "      <th>6</th>\n",
       "      <td>1220707172</td>\n",
       "      <td>Casual</td>\n",
       "      <td>Medium</td>\n",
       "      <td>0.0</td>\n",
       "      <td>XL</td>\n",
       "      <td>Summer</td>\n",
       "      <td>o-neck</td>\n",
       "      <td>full</td>\n",
       "      <td>natural</td>\n",
       "      <td>cotton</td>\n",
       "      <td>chiffon</td>\n",
       "      <td>NaN</td>\n",
       "      <td>solid</td>\n",
       "      <td>0</td>\n",
       "    </tr>\n",
       "    <tr>\n",
       "      <th>9</th>\n",
       "      <td>985292672</td>\n",
       "      <td>bohemian</td>\n",
       "      <td>Low</td>\n",
       "      <td>0.0</td>\n",
       "      <td>free</td>\n",
       "      <td>Summer</td>\n",
       "      <td>v-neck</td>\n",
       "      <td>sleeveless</td>\n",
       "      <td>natural</td>\n",
       "      <td>nylon</td>\n",
       "      <td>chiffon</td>\n",
       "      <td>NaN</td>\n",
       "      <td>NaN</td>\n",
       "      <td>1</td>\n",
       "    </tr>\n",
       "    <tr>\n",
       "      <th>11</th>\n",
       "      <td>898481530</td>\n",
       "      <td>Flare</td>\n",
       "      <td>Medium</td>\n",
       "      <td>0.0</td>\n",
       "      <td>free</td>\n",
       "      <td>Spring</td>\n",
       "      <td>v-neck</td>\n",
       "      <td>short</td>\n",
       "      <td>natural</td>\n",
       "      <td>nylon</td>\n",
       "      <td>chiffon</td>\n",
       "      <td>NaN</td>\n",
       "      <td>animal</td>\n",
       "      <td>0</td>\n",
       "    </tr>\n",
       "    <tr>\n",
       "      <th>...</th>\n",
       "      <td>...</td>\n",
       "      <td>...</td>\n",
       "      <td>...</td>\n",
       "      <td>...</td>\n",
       "      <td>...</td>\n",
       "      <td>...</td>\n",
       "      <td>...</td>\n",
       "      <td>...</td>\n",
       "      <td>...</td>\n",
       "      <td>...</td>\n",
       "      <td>...</td>\n",
       "      <td>...</td>\n",
       "      <td>...</td>\n",
       "      <td>...</td>\n",
       "    </tr>\n",
       "    <tr>\n",
       "      <th>491</th>\n",
       "      <td>964917582</td>\n",
       "      <td>Casual</td>\n",
       "      <td>Medium</td>\n",
       "      <td>5.0</td>\n",
       "      <td>L</td>\n",
       "      <td>Summer</td>\n",
       "      <td>o-neck</td>\n",
       "      <td>sleeveless</td>\n",
       "      <td>natural</td>\n",
       "      <td>cotton</td>\n",
       "      <td>chiffon</td>\n",
       "      <td>NaN</td>\n",
       "      <td>NaN</td>\n",
       "      <td>1</td>\n",
       "    </tr>\n",
       "    <tr>\n",
       "      <th>492</th>\n",
       "      <td>859922576</td>\n",
       "      <td>cute</td>\n",
       "      <td>Medium</td>\n",
       "      <td>4.6</td>\n",
       "      <td>M</td>\n",
       "      <td>Spring</td>\n",
       "      <td>o-neck</td>\n",
       "      <td>half</td>\n",
       "      <td>natural</td>\n",
       "      <td>acrylic</td>\n",
       "      <td>chiffon</td>\n",
       "      <td>NaN</td>\n",
       "      <td>NaN</td>\n",
       "      <td>0</td>\n",
       "    </tr>\n",
       "    <tr>\n",
       "      <th>494</th>\n",
       "      <td>990559192</td>\n",
       "      <td>Brief</td>\n",
       "      <td>Medium</td>\n",
       "      <td>4.7</td>\n",
       "      <td>M</td>\n",
       "      <td>Winter</td>\n",
       "      <td>o-neck</td>\n",
       "      <td>half</td>\n",
       "      <td>natural</td>\n",
       "      <td>acrylic</td>\n",
       "      <td>chiffon</td>\n",
       "      <td>NaN</td>\n",
       "      <td>striped</td>\n",
       "      <td>0</td>\n",
       "    </tr>\n",
       "    <tr>\n",
       "      <th>495</th>\n",
       "      <td>713391965</td>\n",
       "      <td>Casual</td>\n",
       "      <td>Low</td>\n",
       "      <td>4.7</td>\n",
       "      <td>M</td>\n",
       "      <td>Spring</td>\n",
       "      <td>o-neck</td>\n",
       "      <td>full</td>\n",
       "      <td>natural</td>\n",
       "      <td>polyster</td>\n",
       "      <td>chiffon</td>\n",
       "      <td>NaN</td>\n",
       "      <td>solid</td>\n",
       "      <td>1</td>\n",
       "    </tr>\n",
       "    <tr>\n",
       "      <th>496</th>\n",
       "      <td>722565148</td>\n",
       "      <td>Sexy</td>\n",
       "      <td>Low</td>\n",
       "      <td>4.3</td>\n",
       "      <td>free</td>\n",
       "      <td>Summer</td>\n",
       "      <td>o-neck</td>\n",
       "      <td>full</td>\n",
       "      <td>empire</td>\n",
       "      <td>cotton</td>\n",
       "      <td>chiffon</td>\n",
       "      <td>NaN</td>\n",
       "      <td>NaN</td>\n",
       "      <td>0</td>\n",
       "    </tr>\n",
       "  </tbody>\n",
       "</table>\n",
       "<p>236 rows × 14 columns</p>\n",
       "</div>"
      ],
      "text/plain": [
       "       Dress_ID     Style   Price  Rating  Size  Season NeckLine SleeveLength  \\\n",
       "2    1190380701   vintage    High     0.0     L  Autumn   o-neck         full   \n",
       "5    1068332458  bohemian     Low     0.0     M  Summer   v-neck   sleeveless   \n",
       "6    1220707172    Casual  Medium     0.0    XL  Summer   o-neck         full   \n",
       "9     985292672  bohemian     Low     0.0  free  Summer   v-neck   sleeveless   \n",
       "11    898481530     Flare  Medium     0.0  free  Spring   v-neck        short   \n",
       "..          ...       ...     ...     ...   ...     ...      ...          ...   \n",
       "491   964917582    Casual  Medium     5.0     L  Summer   o-neck   sleeveless   \n",
       "492   859922576      cute  Medium     4.6     M  Spring   o-neck         half   \n",
       "494   990559192     Brief  Medium     4.7     M  Winter   o-neck         half   \n",
       "495   713391965    Casual     Low     4.7     M  Spring   o-neck         full   \n",
       "496   722565148      Sexy     Low     4.3  free  Summer   o-neck         full   \n",
       "\n",
       "    Waistline  Material FabricType Decoration PatternType  Recommendation  \n",
       "2     natural  polyster    chiffon        NaN       print               0  \n",
       "5      empire    cotton    chiffon        NaN       print               0  \n",
       "6     natural    cotton    chiffon        NaN       solid               0  \n",
       "9     natural     nylon    chiffon        NaN         NaN               1  \n",
       "11    natural     nylon    chiffon        NaN      animal               0  \n",
       "..        ...       ...        ...        ...         ...             ...  \n",
       "491   natural    cotton    chiffon        NaN         NaN               1  \n",
       "492   natural   acrylic    chiffon        NaN         NaN               0  \n",
       "494   natural   acrylic    chiffon        NaN     striped               0  \n",
       "495   natural  polyster    chiffon        NaN       solid               1  \n",
       "496    empire    cotton    chiffon        NaN         NaN               0  \n",
       "\n",
       "[236 rows x 14 columns]"
      ]
     },
     "execution_count": 46,
     "metadata": {},
     "output_type": "execute_result"
    }
   ],
   "source": [
    "clothes[clothes['Decoration'].isnull()]"
   ]
  },
  {
   "cell_type": "code",
   "execution_count": 47,
   "metadata": {},
   "outputs": [
    {
     "data": {
      "text/plain": [
       "lace          70\n",
       "sashes        42\n",
       "beading       22\n",
       "applique      21\n",
       "hollowout     21\n",
       "ruffles       17\n",
       "bow           15\n",
       "sequined      14\n",
       "button         6\n",
       "pockets        5\n",
       "embroidary     5\n",
       "flowers        4\n",
       "plain          4\n",
       "crystal        3\n",
       "rivet          3\n",
       "ruched         3\n",
       "draped         2\n",
       "feathers       2\n",
       "Tiered         1\n",
       "pleat          1\n",
       "cascading      1\n",
       "pearls         1\n",
       "tassel         1\n",
       "Name: Decoration, dtype: int64"
      ]
     },
     "execution_count": 47,
     "metadata": {},
     "output_type": "execute_result"
    }
   ],
   "source": [
    "clothes['Decoration'].value_counts()\n",
    "# put 'plain' for nulls"
   ]
  },
  {
   "cell_type": "markdown",
   "metadata": {},
   "source": [
    "Whoever filled out the entries for dresses either skipped the Decoration column or didn't bother to fill it in because the dress had no decoration. For the purpose of this project, I will assume the dress had no obvious decoration. The null values will be filled with 'none'."
   ]
  },
  {
   "cell_type": "code",
   "execution_count": 48,
   "metadata": {},
   "outputs": [],
   "source": [
    "clothes[\"Decoration\"].fillna(\"none\", inplace = True)"
   ]
  },
  {
   "cell_type": "markdown",
   "metadata": {},
   "source": [
    "### Pattern"
   ]
  },
  {
   "cell_type": "code",
   "execution_count": 49,
   "metadata": {},
   "outputs": [
    {
     "data": {
      "text/html": [
       "<div>\n",
       "<style scoped>\n",
       "    .dataframe tbody tr th:only-of-type {\n",
       "        vertical-align: middle;\n",
       "    }\n",
       "\n",
       "    .dataframe tbody tr th {\n",
       "        vertical-align: top;\n",
       "    }\n",
       "\n",
       "    .dataframe thead th {\n",
       "        text-align: right;\n",
       "    }\n",
       "</style>\n",
       "<table border=\"1\" class=\"dataframe\">\n",
       "  <thead>\n",
       "    <tr style=\"text-align: right;\">\n",
       "      <th></th>\n",
       "      <th>Dress_ID</th>\n",
       "      <th>Style</th>\n",
       "      <th>Price</th>\n",
       "      <th>Rating</th>\n",
       "      <th>Size</th>\n",
       "      <th>Season</th>\n",
       "      <th>NeckLine</th>\n",
       "      <th>SleeveLength</th>\n",
       "      <th>Waistline</th>\n",
       "      <th>Material</th>\n",
       "      <th>FabricType</th>\n",
       "      <th>Decoration</th>\n",
       "      <th>PatternType</th>\n",
       "      <th>Recommendation</th>\n",
       "    </tr>\n",
       "  </thead>\n",
       "  <tbody>\n",
       "    <tr>\n",
       "      <th>7</th>\n",
       "      <td>1219677488</td>\n",
       "      <td>Novelty</td>\n",
       "      <td>Medium</td>\n",
       "      <td>0.0</td>\n",
       "      <td>free</td>\n",
       "      <td>Autumn</td>\n",
       "      <td>o-neck</td>\n",
       "      <td>short</td>\n",
       "      <td>natural</td>\n",
       "      <td>polyster</td>\n",
       "      <td>broadcloth</td>\n",
       "      <td>lace</td>\n",
       "      <td>NaN</td>\n",
       "      <td>0</td>\n",
       "    </tr>\n",
       "    <tr>\n",
       "      <th>9</th>\n",
       "      <td>985292672</td>\n",
       "      <td>bohemian</td>\n",
       "      <td>Low</td>\n",
       "      <td>0.0</td>\n",
       "      <td>free</td>\n",
       "      <td>Summer</td>\n",
       "      <td>v-neck</td>\n",
       "      <td>sleeveless</td>\n",
       "      <td>natural</td>\n",
       "      <td>nylon</td>\n",
       "      <td>chiffon</td>\n",
       "      <td>none</td>\n",
       "      <td>NaN</td>\n",
       "      <td>1</td>\n",
       "    </tr>\n",
       "    <tr>\n",
       "      <th>15</th>\n",
       "      <td>1162628131</td>\n",
       "      <td>Casual</td>\n",
       "      <td>Low</td>\n",
       "      <td>0.0</td>\n",
       "      <td>free</td>\n",
       "      <td>Winter</td>\n",
       "      <td>boat-neck</td>\n",
       "      <td>full</td>\n",
       "      <td>natural</td>\n",
       "      <td>other</td>\n",
       "      <td>other</td>\n",
       "      <td>lace</td>\n",
       "      <td>NaN</td>\n",
       "      <td>0</td>\n",
       "    </tr>\n",
       "    <tr>\n",
       "      <th>19</th>\n",
       "      <td>1113221101</td>\n",
       "      <td>Sexy</td>\n",
       "      <td>Medium</td>\n",
       "      <td>5.0</td>\n",
       "      <td>M</td>\n",
       "      <td>Autumn</td>\n",
       "      <td>o-neck</td>\n",
       "      <td>sleeveless</td>\n",
       "      <td>empire</td>\n",
       "      <td>milksilk</td>\n",
       "      <td>chiffon</td>\n",
       "      <td>none</td>\n",
       "      <td>NaN</td>\n",
       "      <td>1</td>\n",
       "    </tr>\n",
       "    <tr>\n",
       "      <th>79</th>\n",
       "      <td>943188872</td>\n",
       "      <td>bohemian</td>\n",
       "      <td>very-high</td>\n",
       "      <td>4.7</td>\n",
       "      <td>free</td>\n",
       "      <td>Winter</td>\n",
       "      <td>v-neck</td>\n",
       "      <td>sleeveless</td>\n",
       "      <td>natural</td>\n",
       "      <td>polyster</td>\n",
       "      <td>chiffon</td>\n",
       "      <td>none</td>\n",
       "      <td>NaN</td>\n",
       "      <td>1</td>\n",
       "    </tr>\n",
       "    <tr>\n",
       "      <th>...</th>\n",
       "      <td>...</td>\n",
       "      <td>...</td>\n",
       "      <td>...</td>\n",
       "      <td>...</td>\n",
       "      <td>...</td>\n",
       "      <td>...</td>\n",
       "      <td>...</td>\n",
       "      <td>...</td>\n",
       "      <td>...</td>\n",
       "      <td>...</td>\n",
       "      <td>...</td>\n",
       "      <td>...</td>\n",
       "      <td>...</td>\n",
       "      <td>...</td>\n",
       "    </tr>\n",
       "    <tr>\n",
       "      <th>466</th>\n",
       "      <td>933413410</td>\n",
       "      <td>Casual</td>\n",
       "      <td>Medium</td>\n",
       "      <td>4.8</td>\n",
       "      <td>M</td>\n",
       "      <td>Summer</td>\n",
       "      <td>o-neck</td>\n",
       "      <td>half</td>\n",
       "      <td>natural</td>\n",
       "      <td>cotton</td>\n",
       "      <td>chiffon</td>\n",
       "      <td>none</td>\n",
       "      <td>NaN</td>\n",
       "      <td>0</td>\n",
       "    </tr>\n",
       "    <tr>\n",
       "      <th>470</th>\n",
       "      <td>1124754999</td>\n",
       "      <td>Sexy</td>\n",
       "      <td>Medium</td>\n",
       "      <td>0.0</td>\n",
       "      <td>S</td>\n",
       "      <td>Summer</td>\n",
       "      <td>v-neck</td>\n",
       "      <td>sleeveless</td>\n",
       "      <td>natural</td>\n",
       "      <td>cotton</td>\n",
       "      <td>chiffon</td>\n",
       "      <td>none</td>\n",
       "      <td>NaN</td>\n",
       "      <td>1</td>\n",
       "    </tr>\n",
       "    <tr>\n",
       "      <th>491</th>\n",
       "      <td>964917582</td>\n",
       "      <td>Casual</td>\n",
       "      <td>Medium</td>\n",
       "      <td>5.0</td>\n",
       "      <td>L</td>\n",
       "      <td>Summer</td>\n",
       "      <td>o-neck</td>\n",
       "      <td>sleeveless</td>\n",
       "      <td>natural</td>\n",
       "      <td>cotton</td>\n",
       "      <td>chiffon</td>\n",
       "      <td>none</td>\n",
       "      <td>NaN</td>\n",
       "      <td>1</td>\n",
       "    </tr>\n",
       "    <tr>\n",
       "      <th>492</th>\n",
       "      <td>859922576</td>\n",
       "      <td>cute</td>\n",
       "      <td>Medium</td>\n",
       "      <td>4.6</td>\n",
       "      <td>M</td>\n",
       "      <td>Spring</td>\n",
       "      <td>o-neck</td>\n",
       "      <td>half</td>\n",
       "      <td>natural</td>\n",
       "      <td>acrylic</td>\n",
       "      <td>chiffon</td>\n",
       "      <td>none</td>\n",
       "      <td>NaN</td>\n",
       "      <td>0</td>\n",
       "    </tr>\n",
       "    <tr>\n",
       "      <th>496</th>\n",
       "      <td>722565148</td>\n",
       "      <td>Sexy</td>\n",
       "      <td>Low</td>\n",
       "      <td>4.3</td>\n",
       "      <td>free</td>\n",
       "      <td>Summer</td>\n",
       "      <td>o-neck</td>\n",
       "      <td>full</td>\n",
       "      <td>empire</td>\n",
       "      <td>cotton</td>\n",
       "      <td>chiffon</td>\n",
       "      <td>none</td>\n",
       "      <td>NaN</td>\n",
       "      <td>0</td>\n",
       "    </tr>\n",
       "  </tbody>\n",
       "</table>\n",
       "<p>109 rows × 14 columns</p>\n",
       "</div>"
      ],
      "text/plain": [
       "       Dress_ID     Style      Price  Rating  Size  Season   NeckLine  \\\n",
       "7    1219677488   Novelty     Medium     0.0  free  Autumn     o-neck   \n",
       "9     985292672  bohemian        Low     0.0  free  Summer     v-neck   \n",
       "15   1162628131    Casual        Low     0.0  free  Winter  boat-neck   \n",
       "19   1113221101      Sexy     Medium     5.0     M  Autumn     o-neck   \n",
       "79    943188872  bohemian  very-high     4.7  free  Winter     v-neck   \n",
       "..          ...       ...        ...     ...   ...     ...        ...   \n",
       "466   933413410    Casual     Medium     4.8     M  Summer     o-neck   \n",
       "470  1124754999      Sexy     Medium     0.0     S  Summer     v-neck   \n",
       "491   964917582    Casual     Medium     5.0     L  Summer     o-neck   \n",
       "492   859922576      cute     Medium     4.6     M  Spring     o-neck   \n",
       "496   722565148      Sexy        Low     4.3  free  Summer     o-neck   \n",
       "\n",
       "    SleeveLength Waistline  Material  FabricType Decoration PatternType  \\\n",
       "7          short   natural  polyster  broadcloth       lace         NaN   \n",
       "9     sleeveless   natural     nylon     chiffon       none         NaN   \n",
       "15          full   natural     other       other       lace         NaN   \n",
       "19    sleeveless    empire  milksilk     chiffon       none         NaN   \n",
       "79    sleeveless   natural  polyster     chiffon       none         NaN   \n",
       "..           ...       ...       ...         ...        ...         ...   \n",
       "466         half   natural    cotton     chiffon       none         NaN   \n",
       "470   sleeveless   natural    cotton     chiffon       none         NaN   \n",
       "491   sleeveless   natural    cotton     chiffon       none         NaN   \n",
       "492         half   natural   acrylic     chiffon       none         NaN   \n",
       "496         full    empire    cotton     chiffon       none         NaN   \n",
       "\n",
       "     Recommendation  \n",
       "7                 0  \n",
       "9                 1  \n",
       "15                0  \n",
       "19                1  \n",
       "79                1  \n",
       "..              ...  \n",
       "466               0  \n",
       "470               1  \n",
       "491               1  \n",
       "492               0  \n",
       "496               0  \n",
       "\n",
       "[109 rows x 14 columns]"
      ]
     },
     "execution_count": 49,
     "metadata": {},
     "output_type": "execute_result"
    }
   ],
   "source": [
    "clothes[clothes['PatternType'].isnull()]"
   ]
  },
  {
   "cell_type": "code",
   "execution_count": 50,
   "metadata": {},
   "outputs": [
    {
     "data": {
      "text/plain": [
       "solid        203\n",
       "print         71\n",
       "patchwork     48\n",
       "animal        21\n",
       "striped       17\n",
       "dot           14\n",
       "geometric      5\n",
       "leopard        4\n",
       "plaid          3\n",
       "floral         2\n",
       "character      1\n",
       "splice         1\n",
       "none           1\n",
       "Name: PatternType, dtype: int64"
      ]
     },
     "execution_count": 50,
     "metadata": {},
     "output_type": "execute_result"
    }
   ],
   "source": [
    "clothes['PatternType'].value_counts()\n",
    "# 'none' and null -> solid"
   ]
  },
  {
   "cell_type": "markdown",
   "metadata": {},
   "source": [
    "The Pattern column is a similar situation to Decoration. I have decided to interpret null values as a solid colored dress."
   ]
  },
  {
   "cell_type": "code",
   "execution_count": 51,
   "metadata": {},
   "outputs": [],
   "source": [
    "# change the one 'none' to solid\n",
    "clothes.replace({\"PatternType\" : {\"none\":\"solid\"} }, inplace=True)\n",
    "\n",
    "# replace NaNs with solid\n",
    "clothes[\"PatternType\"].fillna(\"solid\", inplace = True)"
   ]
  },
  {
   "cell_type": "markdown",
   "metadata": {},
   "source": [
    "## Feature Engineering"
   ]
  },
  {
   "cell_type": "code",
   "execution_count": 52,
   "metadata": {},
   "outputs": [
    {
     "data": {
      "text/plain": [
       "0      0.92\n",
       "1      0.00\n",
       "2      0.00\n",
       "3      0.92\n",
       "4      0.90\n",
       "       ... \n",
       "495    0.94\n",
       "496    0.86\n",
       "497    0.94\n",
       "498    0.92\n",
       "499    0.88\n",
       "Name: Rating, Length: 500, dtype: float64"
      ]
     },
     "execution_count": 52,
     "metadata": {},
     "output_type": "execute_result"
    }
   ],
   "source": [
    "\n",
    "rating_mean = clothes[\"Rating\"].mean()\n",
    "rating_std = clothes[\"Rating\"].std()\n",
    "\n",
    "z_normalization = lambda x: x - rating_mean / rating_std# ddof=0 ?\n",
    "\n",
    "\n",
    "z = lambda x: x/5.\n",
    "clothes['Rating'].apply(z)\n",
    "\n",
    "#clothes['Rating'].apply(z_normalization)  # work without a group by ?"
   ]
  },
  {
   "cell_type": "code",
   "execution_count": null,
   "metadata": {},
   "outputs": [],
   "source": []
  },
  {
   "cell_type": "markdown",
   "metadata": {},
   "source": [
    "## Visualizations"
   ]
  },
  {
   "cell_type": "code",
   "execution_count": 53,
   "metadata": {},
   "outputs": [
    {
     "data": {
      "text/plain": [
       "Text(0.5, 0, 'Style')"
      ]
     },
     "execution_count": 53,
     "metadata": {},
     "output_type": "execute_result"
    },
    {
     "data": {
      "image/png": "[encoded data removed]",
      "text/plain": [
       "<Figure size 1008x1008 with 1 Axes>"
      ]
     },
     "metadata": {
      "needs_background": "light"
     },
     "output_type": "display_data"
    }
   ],
   "source": [
    "clothes.groupby(['Style'])['Recommendation'].value_counts().unstack().plot.bar(rot=70, width=0.75, \n",
    "                                                                            stacked=True, figsize=(14,14),\n",
    "                                                                            fontsize=13,\n",
    "                                                                            yticks=list(range(0,250,10)))\n",
    "plt.xlabel(\"Style\", fontsize=13)"
   ]
  },
  {
   "cell_type": "code",
   "execution_count": null,
   "metadata": {},
   "outputs": [],
   "source": []
  },
  {
   "cell_type": "code",
   "execution_count": 54,
   "metadata": {},
   "outputs": [
    {
     "data": {
      "text/plain": [
       "Text(0.5, 0, 'Price')"
      ]
     },
     "execution_count": 54,
     "metadata": {},
     "output_type": "execute_result"
    },
    {
     "data": {
      "image/png": "[encoded data removed]",
      "text/plain": [
       "<Figure size 1008x1008 with 1 Axes>"
      ]
     },
     "metadata": {
      "needs_background": "light"
     },
     "output_type": "display_data"
    }
   ],
   "source": [
    "# Change order !!!\n",
    "clothes.groupby(['Price'])['Recommendation'].value_counts().unstack().plot.bar(rot=70, width=0.75, \n",
    "                                                                            stacked=True, figsize=(14,14),\n",
    "                                                                            fontsize=13, yticks=list(range(0,300,10)))\n",
    "plt.xlabel(\"Price\", fontsize=13)"
   ]
  },
  {
   "cell_type": "code",
   "execution_count": 55,
   "metadata": {},
   "outputs": [
    {
     "data": {
      "text/plain": [
       "<AxesSubplot:>"
      ]
     },
     "execution_count": 55,
     "metadata": {},
     "output_type": "execute_result"
    },
    {
     "data": {
      "image/png": "[encoded data removed]",
      "text/plain": [
       "<Figure size 432x288 with 1 Axes>"
      ]
     },
     "metadata": {
      "needs_background": "light"
     },
     "output_type": "display_data"
    }
   ],
   "source": [
    "# histogram of ratings\n",
    "clothes['Rating'].hist(bins=50)"
   ]
  },
  {
   "cell_type": "code",
   "execution_count": null,
   "metadata": {},
   "outputs": [],
   "source": []
  },
  {
   "cell_type": "code",
   "execution_count": 59,
   "metadata": {},
   "outputs": [
    {
     "data": {
      "image/png": "[encoded data removed]",
      "text/plain": [
       "<Figure size 432x432 with 3 Axes>"
      ]
     },
     "metadata": {
      "needs_background": "light"
     },
     "output_type": "display_data"
    }
   ],
   "source": [
    "sns.jointplot(x=\"Rating\", y=\"Recommendation\", data=clothes);"
   ]
  },
  {
   "cell_type": "code",
   "execution_count": 62,
   "metadata": {},
   "outputs": [
    {
     "name": "stderr",
     "output_type": "stream",
     "text": [
      "/Users/matheson/opt/anaconda3/lib/python3.8/site-packages/seaborn/categorical.py:1296: UserWarning: 38.5% of the points cannot be placed; you may want to decrease the size of the markers or use stripplot.\n",
      "  warnings.warn(msg, UserWarning)\n",
      "/Users/matheson/opt/anaconda3/lib/python3.8/site-packages/seaborn/categorical.py:1296: UserWarning: 8.7% of the points cannot be placed; you may want to decrease the size of the markers or use stripplot.\n",
      "  warnings.warn(msg, UserWarning)\n",
      "/Users/matheson/opt/anaconda3/lib/python3.8/site-packages/seaborn/categorical.py:1296: UserWarning: 37.6% of the points cannot be placed; you may want to decrease the size of the markers or use stripplot.\n",
      "  warnings.warn(msg, UserWarning)\n",
      "/Users/matheson/opt/anaconda3/lib/python3.8/site-packages/seaborn/categorical.py:1296: UserWarning: 37.9% of the points cannot be placed; you may want to decrease the size of the markers or use stripplot.\n",
      "  warnings.warn(msg, UserWarning)\n"
     ]
    },
    {
     "data": {
      "text/plain": [
       "<seaborn.axisgrid.FacetGrid at 0x7fd2b15b24f0>"
      ]
     },
     "execution_count": 62,
     "metadata": {},
     "output_type": "execute_result"
    },
    {
     "data": {
      "image/png": "[encoded data removed]",
      "text/plain": [
       "<Figure size 455.375x360 with 1 Axes>"
      ]
     },
     "metadata": {
      "needs_background": "light"
     },
     "output_type": "display_data"
    }
   ],
   "source": [
    "sns.catplot(y=\"Rating\", x=\"Season\", hue=\"Recommendation\", kind=\"swarm\", data=clothes)"
   ]
  },
  {
   "cell_type": "code",
   "execution_count": 76,
   "metadata": {},
   "outputs": [
    {
     "name": "stderr",
     "output_type": "stream",
     "text": [
      "/Users/matheson/opt/anaconda3/lib/python3.8/site-packages/seaborn/categorical.py:1296: UserWarning: 13.1% of the points cannot be placed; you may want to decrease the size of the markers or use stripplot.\n",
      "  warnings.warn(msg, UserWarning)\n",
      "/Users/matheson/opt/anaconda3/lib/python3.8/site-packages/seaborn/categorical.py:1296: UserWarning: 6.4% of the points cannot be placed; you may want to decrease the size of the markers or use stripplot.\n",
      "  warnings.warn(msg, UserWarning)\n",
      "/Users/matheson/opt/anaconda3/lib/python3.8/site-packages/seaborn/categorical.py:1296: UserWarning: 14.9% of the points cannot be placed; you may want to decrease the size of the markers or use stripplot.\n",
      "  warnings.warn(msg, UserWarning)\n",
      "/Users/matheson/opt/anaconda3/lib/python3.8/site-packages/seaborn/categorical.py:1296: UserWarning: 10.5% of the points cannot be placed; you may want to decrease the size of the markers or use stripplot.\n",
      "  warnings.warn(msg, UserWarning)\n"
     ]
    },
    {
     "data": {
      "text/plain": [
       "<seaborn.axisgrid.FacetGrid at 0x7fd2b182e460>"
      ]
     },
     "execution_count": 76,
     "metadata": {},
     "output_type": "execute_result"
    },
    {
     "data": {
      "image/png": "[encoded data removed]",
      "text/plain": [
       "<Figure size 720x360 with 2 Axes>"
      ]
     },
     "metadata": {
      "needs_background": "light"
     },
     "output_type": "display_data"
    }
   ],
   "source": [
    "sns.catplot(x=\"Season\", y=\"Rating\", hue='Recommendation',\n",
    "            col=\"Recommendation\",\n",
    "            kind=\"swarm\", data=clothes)"
   ]
  },
  {
   "cell_type": "code",
   "execution_count": 68,
   "metadata": {},
   "outputs": [
    {
     "data": {
      "text/plain": [
       "<seaborn.axisgrid.FacetGrid at 0x7fd2b1826070>"
      ]
     },
     "execution_count": 68,
     "metadata": {},
     "output_type": "execute_result"
    },
    {
     "data": {
      "image/png": "[encoded data removed]",
      "text/plain": [
       "<Figure size 1535.38x360 with 4 Axes>"
      ]
     },
     "metadata": {
      "needs_background": "light"
     },
     "output_type": "display_data"
    }
   ],
   "source": [
    "sns.catplot(x=\"Price\", y=\"Rating\", hue=\"Recommendation\", col='Season', kind=\"bar\", data=clothes)"
   ]
  },
  {
   "cell_type": "code",
   "execution_count": 72,
   "metadata": {},
   "outputs": [
    {
     "data": {
      "image/png": "[encoded data removed]",
      "text/plain": [
       "<Figure size 455.375x360 with 1 Axes>"
      ]
     },
     "metadata": {
      "needs_background": "light"
     },
     "output_type": "display_data"
    }
   ],
   "source": [
    "sns.catplot(x=\"Price\", y=\"Rating\", hue=\"Recommendation\", order=['Low', 'Medium', 'High', \"very-high\"], kind=\"bar\", data=clothes);"
   ]
  },
  {
   "cell_type": "code",
   "execution_count": 81,
   "metadata": {},
   "outputs": [
    {
     "data": {
      "image/png": "[encoded data removed]",
      "text/plain": [
       "<Figure size 1535.38x1440 with 16 Axes>"
      ]
     },
     "metadata": {
      "needs_background": "light"
     },
     "output_type": "display_data"
    }
   ],
   "source": [
    "\n",
    "sns.catplot(x=\"Season\", y=\"Rating\", hue=\"Recommendation\", row='Season', col='Price', kind=\"bar\", data=clothes);\n",
    "\n",
    "#order=['Spring', 'Summer', 'Autumn', \"Winter\"]\n"
   ]
  },
  {
   "cell_type": "code",
   "execution_count": null,
   "metadata": {},
   "outputs": [],
   "source": [
    "clothes.groupby(['Rating'])['Recommendation'].value_counts().unstack().plot.bar(rot=70, width=0.75, \n",
    "                                                                            stacked=True, figsize=(14,14),\n",
    "                                                                            fontsize=13,yticks=list(range(0,130,10)),\n",
    "                                                                            )\n",
    "plt.xlabel(\"Rating\", fontsize=13)\n"
   ]
  },
  {
   "cell_type": "code",
   "execution_count": null,
   "metadata": {},
   "outputs": [],
   "source": []
  },
  {
   "cell_type": "code",
   "execution_count": null,
   "metadata": {},
   "outputs": [],
   "source": []
  },
  {
   "cell_type": "code",
   "execution_count": null,
   "metadata": {},
   "outputs": [],
   "source": []
  },
  {
   "cell_type": "code",
   "execution_count": null,
   "metadata": {},
   "outputs": [],
   "source": [
    "order = [\"S\", \"M\", \"L\", \"XL\", 'free']\n",
    "#     CHANGE    ORDER \n",
    "clothes.groupby(['Size'])['Recommendation'].value_counts().unstack().plot.bar(rot=70, width=0.75, \n",
    "                                                                            stacked=True, figsize=(14,14),\n",
    "                                                                            fontsize=13, yticks=list(range(0,190,10)) )\n",
    "\n",
    "plt.xlabel(\"Size\", fontsize=13)\n"
   ]
  },
  {
   "cell_type": "code",
   "execution_count": null,
   "metadata": {},
   "outputs": [],
   "source": [
    "# ORDER !!!\n",
    "clothes.groupby(['Season'])['Recommendation'].value_counts().unstack().plot.bar(rot=70, width=0.75, \n",
    "                                                                            stacked=True, figsize=(14,14),\n",
    "                                                                            fontsize=13, yticks=list(range(0,180,10)) )\n",
    "plt.xlabel(\"Season\", fontsize=15)\n"
   ]
  },
  {
   "cell_type": "code",
   "execution_count": null,
   "metadata": {},
   "outputs": [],
   "source": [
    "clothes.groupby(['NeckLine'])['Recommendation'].value_counts().unstack().plot.bar(rot=70, width=0.75, \n",
    "                                                                            stacked=True, figsize=(14,14),\n",
    "                                                                            fontsize=13, yticks=list(range(0,290,10)) )\n",
    "plt.xlabel(\"Neckline\", fontsize=13)\n"
   ]
  },
  {
   "cell_type": "code",
   "execution_count": null,
   "metadata": {},
   "outputs": [],
   "source": [
    "clothes.groupby(['SleeveLength'])['Recommendation'].value_counts().unstack().plot.bar(rot=70, width=0.75, \n",
    "                                                                            stacked=True, figsize=(14,14),\n",
    "                                                                              fontsize=13, yticks=list(range(0,250,10))\n",
    "                                                                                     \n",
    "plt.xlabel(\"Sleeve Length\", fontsize=13))"
   ]
  },
  {
   "cell_type": "code",
   "execution_count": null,
   "metadata": {},
   "outputs": [],
   "source": [
    "clothes.groupby(['Waistline'])['Recommendation'].value_counts().unstack().plot.bar(rot=70, width=0.75, \n",
    "                                                                            stacked=True, figsize=(14,14),\n",
    "                                                                            fontsize=13, yticks=list(range(0,420,10)) )\n",
    "plt.xlabel(\"Waistline\", fontsize=13)\n",
    "\n"
   ]
  },
  {
   "cell_type": "code",
   "execution_count": null,
   "metadata": {},
   "outputs": [],
   "source": [
    "clothes.groupby(['Material'])['Recommendation'].value_counts().unstack().plot.bar(rot=70, width=0.75, \n",
    "                                                                            stacked=True, figsize=(14,14),\n",
    "                                                                            fontsize=13, yticks=list(range(0,160,10)) )\n",
    "plt.xlabel(\"Material\", fontsize=13)"
   ]
  },
  {
   "cell_type": "code",
   "execution_count": null,
   "metadata": {},
   "outputs": [],
   "source": [
    "clothes.groupby(['FabricType'])['Recommendation'].value_counts().unstack().plot.bar(rot=70, width=0.75, \n",
    "                                                                            stacked=True, figsize=(14,14),\n",
    "                                                                            fontsize=13, yticks=list(range(0,420,10)),fontsize=13,grid=True)\n",
    "plt.xlabel(\"Type of Fabric\", fontsize=13)"
   ]
  },
  {
   "cell_type": "code",
   "execution_count": null,
   "metadata": {},
   "outputs": [],
   "source": [
    "clothes.groupby(['Decoration'])['Recommendation'].value_counts().unstack().plot.bar(rot=70, width=0.75, \n",
    "                                                                            stacked=True, figsize=(14,14),\n",
    "                                                                            fontsize=13, yticks=list(range(0,250,5)),fontsize=13,grid=False)\n",
    "plt.xlabel(\"Decoration\", fontsize=13)"
   ]
  },
  {
   "cell_type": "code",
   "execution_count": null,
   "metadata": {},
   "outputs": [],
   "source": [
    "clothes.groupby(['PatternType'])['Recommendation'].value_counts().unstack().plot.bar(rot=70, width=0.75, \n",
    "                                                                            stacked=True, figsize=(14,14),\n",
    "                                                                            yticks=list(range(0,320,10)),\n",
    "                                                                            fontsize=15,grid=False,\n",
    "                                                                            title=\" \")\n",
    "plt.xlabel(\"Pattern\", fontsize=15)"
   ]
  },
  {
   "cell_type": "code",
   "execution_count": null,
   "metadata": {},
   "outputs": [],
   "source": [
    "## #clothes.FabricType.value_counts().plot(kind=\"bar\", rot=50, stacked=True, color=clothes.Recommendation)\n",
    "#get recommended or not in 2 colors\n",
    "\n",
    "\n",
    "FTseries = clothes[['FabricType', 'Recommendation']].value_counts()\n",
    "\n",
    "\n",
    "print(FTseries.index[0])\n",
    "\n",
    "#FTseries.plot(kind='bar', stacked=True, color={'0': 'green', '1': 'pink'} )\n",
    "\n",
    "#print(FTseries.values)\n",
    "#df = pd.DataFrame( { \"Count\": list(FTseries.values[0]), \"Recommendation\" }, index = list(FTseries.index))\n",
    "                                                         # index 2 rec                           index 1 (fab type)\n",
    "\n",
    "\n",
    "#dataframe = pd.DataFrame({'Age':[23, 17, 40, 38, 24, 12, 45], \n",
    "#                          'Avg Age in Family':[70, 65, 80, 55, 60, 63, 90]}, \n",
    "#                          index =['Olivia', 'John', 'Laura', 'Ben', 'Kevin',                                                'Robin','Elsa'])\n",
    "#axis = df.plot.bar(rot=0, color=['r', 'b'])\n",
    "#print(axis)\n",
    "#plt.show()\n"
   ]
  },
  {
   "cell_type": "code",
   "execution_count": null,
   "metadata": {},
   "outputs": [],
   "source": [
    "clothes.Price.value_counts().plot(kind='pie', rot=0, title=\"Price\", autopct='%1.1f%%')\n",
    "\n",
    "\n",
    "\n"
   ]
  },
  {
   "cell_type": "code",
   "execution_count": null,
   "metadata": {},
   "outputs": [],
   "source": [
    "clothes.Size.value_counts().plot(kind='pie', autopct='%1.1f%%')"
   ]
  },
  {
   "cell_type": "code",
   "execution_count": null,
   "metadata": {},
   "outputs": [],
   "source": [
    "sns.catplot(x=\"Recommendation\", y=\"Rating\", hue=\"Size\",\n",
    "            col=\"Season\",\n",
    "            kind=\"swarm\", data=clothes);"
   ]
  },
  {
   "cell_type": "code",
   "execution_count": 60,
   "metadata": {},
   "outputs": [
    {
     "data": {
      "text/plain": [
       "<seaborn.axisgrid.PairGrid at 0x7fd2a02cae80>"
      ]
     },
     "execution_count": 60,
     "metadata": {},
     "output_type": "execute_result"
    },
    {
     "data": {
      "image/png": "[encoded data removed]",
      "text/plain": [
       "<Figure size 540x540 with 12 Axes>"
      ]
     },
     "metadata": {
      "needs_background": "light"
     },
     "output_type": "display_data"
    }
   ],
   "source": [
    "sns.pairplot(clothes)"
   ]
  },
  {
   "cell_type": "code",
   "execution_count": null,
   "metadata": {},
   "outputs": [],
   "source": []
  },
  {
   "cell_type": "code",
   "execution_count": null,
   "metadata": {
    "scrolled": true
   },
   "outputs": [],
   "source": [
    "sns.set()\n",
    "sns.pairplot(clothes, hue='Recommendation') # tips is df"
   ]
  },
  {
   "cell_type": "code",
   "execution_count": null,
   "metadata": {},
   "outputs": [],
   "source": [
    "sns.heatmap(clothes.corr(), cmap='coolwarm')\n",
    "plt.show() # only numeric values"
   ]
  },
  {
   "cell_type": "code",
   "execution_count": null,
   "metadata": {},
   "outputs": [],
   "source": []
  },
  {
   "cell_type": "code",
   "execution_count": null,
   "metadata": {},
   "outputs": [],
   "source": []
  },
  {
   "cell_type": "markdown",
   "metadata": {},
   "source": [
    "## Further Analysis\n"
   ]
  },
  {
   "cell_type": "code",
   "execution_count": null,
   "metadata": {},
   "outputs": [],
   "source": [
    "# mean rating of dresses in each kind of ____season/price/neckline\n",
    "# alskdfj =  group by\n",
    "\n",
    "# a;slfkj .agg([ ])\n",
    "\n",
    "table1 = pd.pivot_table(clothes, values='Rating', index=['Season', 'Style'],\n",
    "                    columns=['Price'] , aggfunc='mean')\n",
    "\n",
    "table1\n",
    "\n",
    "# crosstab ?\n",
    "# pivot table ?\n"
   ]
  },
  {
   "cell_type": "code",
   "execution_count": null,
   "metadata": {},
   "outputs": [],
   "source": [
    "\n",
    "pd.crosstab(clothes.Season, clothes.Recommendation)"
   ]
  },
  {
   "cell_type": "code",
   "execution_count": null,
   "metadata": {},
   "outputs": [],
   "source": [
    "clothes.groupby(['Recommendation', 'Season'])[['Rating']].mean().unstack()"
   ]
  },
  {
   "cell_type": "code",
   "execution_count": null,
   "metadata": {},
   "outputs": [],
   "source": []
  },
  {
   "cell_type": "markdown",
   "metadata": {},
   "source": [
    "## Machine Learning"
   ]
  },
  {
   "cell_type": "markdown",
   "metadata": {},
   "source": [
    "### Predict Recommendation"
   ]
  },
  {
   "cell_type": "code",
   "execution_count": null,
   "metadata": {},
   "outputs": [],
   "source": [
    "clothes.isnull().sum()"
   ]
  },
  {
   "cell_type": "code",
   "execution_count": null,
   "metadata": {},
   "outputs": [],
   "source": [
    "from sklearn import svm, tree, neural_network\n",
    "from sklearn import model_selection as mod_sel\n",
    "\n",
    "from keras.utils import to_categorical\n",
    "\n",
    "from sklearn.metrics import confusion_matrix"
   ]
  },
  {
   "cell_type": "code",
   "execution_count": null,
   "metadata": {},
   "outputs": [],
   "source": [
    "y = clothes[\"Recommendation\"]\n",
    "\n",
    "y.shape\n",
    "\n",
    "X = clothes[[\"Style\", \"Price\", \"Rating\", \"Size\", \"Season\", \"NeckLine\", \"SleeveLength\",\n",
    "        \"Waistline\", \"Material\", \"FabricType\", \"Decoration\", \"PatternType\"]]\n",
    "\n",
    "X = pd.get_dummies(X, columns = [\"Style\", \"Price\", \"Size\", \"Season\", \"NeckLine\", \"SleeveLength\",\n",
    "        \"Waistline\", \"Material\", \"FabricType\", \"Decoration\", \"PatternType\"])\n",
    "\n",
    "Xtrain, Xtest, ytrain, ytest = mod_sel.train_test_split(X, y, test_size=0.3)\n",
    "\n",
    "#Xtrain = Xtrain.reshape(1,-1)\n",
    "#Xtest = Xtest.reshape(1,-1)"
   ]
  },
  {
   "cell_type": "markdown",
   "metadata": {},
   "source": [
    "#### Support Vector Machine Classifier (SVM)"
   ]
  },
  {
   "cell_type": "code",
   "execution_count": null,
   "metadata": {},
   "outputs": [],
   "source": [
    "SVM = svm.SVC()\n",
    "SVM.fit(Xtrain, ytrain)\n",
    "\n",
    "svm_preds = SVM.predict(Xtest)\n",
    "\n",
    "sum(svm_preds == ytest)/len(ytest)\n",
    "\n",
    "cm1_svm = confusion_matrix(svm_preds, ytest)\n",
    "\n",
    "plt.matshow(cm1_svm)#, cmap=plt.cm.gray_r)\n",
    "plt.colorbar()"
   ]
  },
  {
   "cell_type": "code",
   "execution_count": null,
   "metadata": {},
   "outputs": [],
   "source": [
    "#import statsmodels.api as sm\n",
    "\n",
    "#df['fem_marr'] = df['female'] * df['married']  # became  important feature\n",
    "\n",
    "\n",
    "#X2 = sm.add_constant(X)  # Add column of 1s\n",
    "#results2 = sm.OLS(y,X2).fit()\n",
    "#print(results2.summary())"
   ]
  },
  {
   "cell_type": "markdown",
   "metadata": {},
   "source": [
    "#### Decision Tree Classifier"
   ]
  },
  {
   "cell_type": "code",
   "execution_count": null,
   "metadata": {},
   "outputs": [],
   "source": [
    " # do get_dummies\n",
    "\n",
    "\n",
    "for samples in range(1,52,5):\n",
    "\n",
    "    print(\"tree depth:\", depth, \"samples:\", samples)\n",
    "    Tree = tree.DecisionTreeClassifier(max_depth=depth, min_samples_leaf=samples)\n",
    "\n",
    "\n",
    "    Tree.fit(Xtrain, ytrain)\n",
    "\n",
    "    preds = Tree.predict(Xtest)\n",
    "\n",
    "    right = sum(preds==ytest)\n",
    "    acc = right/len(ytest)\n",
    "    print(\"accuracy:\", acc)\n",
    "\n",
    "    \n"
   ]
  },
  {
   "cell_type": "markdown",
   "metadata": {},
   "source": [
    "#### Neural Network"
   ]
  },
  {
   "cell_type": "code",
   "execution_count": null,
   "metadata": {},
   "outputs": [],
   "source": [
    "# categorical needs to be numbers ( so just do get_dummies!)\n",
    "\n",
    "y_train = to_categorical(ytrain)\n",
    "y_test = to_categorical(ytest)\n",
    "\n",
    "\n",
    "clf = neural_network.MLPClassifier(solver='lbfgs', alpha=1e-5,    \n",
    "                    hidden_layer_sizes=(5, 2), random_state=1)\n",
    "\n",
    "clf.fit(Xtrain, y_train)\n",
    "\n",
    "score = clf.score(Xtest, y_test)\n",
    "print(score)\n"
   ]
  },
  {
   "cell_type": "markdown",
   "metadata": {},
   "source": [
    "### Predict Price"
   ]
  },
  {
   "cell_type": "code",
   "execution_count": null,
   "metadata": {},
   "outputs": [],
   "source": [
    "y = clothes[\"Price\"]\n",
    "\n",
    "X = clothes[[\"Style\", \"Rating\", \"Size\", \"Season\", \"NeckLine\", \"SleeveLength\",\n",
    "        \"Waistline\", \"Material\", \"FabricType\", \"Decoration\", \"PatternType\", \"Recommendation\"]]\n",
    "\n",
    "X = pd.get_dummies(X, columns = [\"Style\", \"Size\", \"Season\", \"NeckLine\", \"SleeveLength\",\n",
    "        \"Waistline\", \"Material\", \"FabricType\", \"Decoration\", \"PatternType\"])\n",
    "\n",
    "Xtrain, Xtest, ytrain, ytest = mod_sel.train_test_split(X, y, test_size=0.3)\n",
    "\n",
    "\n",
    "\n",
    "\n",
    "#pd.get_dummies(titanic, columns=['sex', 'who'], drop_first=True)"
   ]
  },
  {
   "cell_type": "code",
   "execution_count": null,
   "metadata": {},
   "outputs": [],
   "source": [
    "SVM = svm.SVC()    # can this handle mult categories ???\n",
    "SVM.fit(Xtrain, ytrain)\n",
    "svm_preds = SVM.predict(Xtest)\n",
    "sum(svm_preds == ytest)/len(ytest)"
   ]
  },
  {
   "cell_type": "code",
   "execution_count": null,
   "metadata": {},
   "outputs": [],
   "source": [
    "Tree = tree.DecisionTreeClassifier(max_depth=7, min_samples_leaf=21)\n",
    "\n",
    "Tree.fit(Xtrain, ytrain)\n",
    "\n",
    "preds = Tree.predict(Xtest)\n",
    "\n",
    "# or   Tree.score(Xtest, ytest)\n",
    "\n",
    "\n",
    "right = sum(preds==ytest)\n",
    "acc = right/len(ytest)\n",
    "print(\"accuracy:\", acc)\n",
    "\n",
    "\n",
    "confusion_matrix(preds, ytest)\n"
   ]
  },
  {
   "cell_type": "code",
   "execution_count": null,
   "metadata": {},
   "outputs": [],
   "source": [
    "\n",
    "y_train = to_categorical(ytrain)\n",
    "y_test = to_categorical(ytest)\n",
    "\n",
    "\n",
    "clf = neural_network.MLPClassifier(solver='lbfgs', alpha=1e-5,    \n",
    "                    hidden_layer_sizes=(5, 2), random_state=1)\n",
    "\n",
    "clf.fit(Xtrain, y_train)\n",
    "\n",
    "score = clf.score(Xtest, y_test)\n",
    "print(score)"
   ]
  }
 ],
 "metadata": {
  "kernelspec": {
   "display_name": "Python 3",
   "language": "python",
   "name": "python3"
  },
  "language_info": {
   "codemirror_mode": {
    "name": "ipython",
    "version": 3
   },
   "file_extension": ".py",
   "mimetype": "text/x-python",
   "name": "python",
   "nbconvert_exporter": "python",
   "pygments_lexer": "ipython3",
   "version": "3.8.5"
  }
 },
 "nbformat": 4,
 "nbformat_minor": 4
}
